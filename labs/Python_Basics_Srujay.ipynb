{
  "cells": [
    {
      "cell_type": "markdown",
      "metadata": {
        "id": "view-in-github",
        "colab_type": "text"
      },
      "source": [
        "<a href=\"https://colab.research.google.com/github/srujayreddyv/CSUS-CSC177-DataAnalyticsAndMining/blob/main/labs/Python_Basics_Srujay.ipynb\" target=\"_parent\"><img src=\"https://colab.research.google.com/assets/colab-badge.svg\" alt=\"Open In Colab\"/></a>"
      ]
    },
    {
      "cell_type": "markdown",
      "metadata": {
        "id": "fLfWdhH8muiB"
      },
      "source": [
        "# Welcome to Python Basics"
      ]
    },
    {
      "cell_type": "markdown",
      "metadata": {
        "id": "LhQiuZPkmuiD"
      },
      "source": [
        "## What is Python?  🐍\n",
        "\n",
        "--> Interpreted Language (Processed at runtime) <br>\n",
        "--> Interactive (Direct interaction with python interpreter) <br>\n",
        "--> Object oriented Language"
      ]
    },
    {
      "cell_type": "markdown",
      "metadata": {
        "id": "WUg4de_OmuiD"
      },
      "source": [
        "## Python features :)\n",
        "    \n",
        "    Easy to read\n",
        "    Case-sensitive\n",
        "    Bulk Libraries (Pandas ,NLTK, Tensorflow, Tkinter etc)\n",
        "    Database (Interface to major databases)\n",
        "    Portable (Runs on various hardware platforms)\n",
        "    ..Etc"
      ]
    },
    {
      "cell_type": "markdown",
      "metadata": {
        "id": "RwT8H2JHmuiE"
      },
      "source": [
        "## Identifiers to  identify +.+\n",
        "\n",
        "To identify a variable, function, class, module or other object. <br>\n",
        "An identifier starts with a letter A to Z or a to z or an underscore. <br>\n",
        "Python does not allow punctuation characters such as @, $, and % within identifiers <br>"
      ]
    },
    {
      "cell_type": "markdown",
      "metadata": {
        "id": "QnxgEFXjmuiE"
      },
      "source": [
        "## Reserved Words\n",
        "![image.png](attachment:image.png)\n"
      ]
    },
    {
      "cell_type": "markdown",
      "metadata": {
        "id": "f0LufTgKmuiE"
      },
      "source": [
        "## No curly braces, Only Spaces     (Python vs Java)"
      ]
    },
    {
      "cell_type": "code",
      "execution_count": 1,
      "metadata": {
        "colab": {
          "base_uri": "https://localhost:8080/"
        },
        "id": "uBEcBVHgmuiE",
        "outputId": "5c4b2e68-701f-48b8-bf08-28f19d6b81f0"
      },
      "outputs": [
        {
          "output_type": "stream",
          "name": "stdout",
          "text": [
            "10\n"
          ]
        }
      ],
      "source": [
        "def simp_class():                               # public class Simp_class {\n",
        "     x = 10                                     #   int x = 10;\n",
        "     print(x)                                   #  public static void main(String[] args) {\n",
        "                                                #    Simp_class sim_obj = new Simp_class();\n",
        "simp_class()                                    #    System.out.println(sim_obj.x);\n",
        "                                                #  }\n",
        "                                                # }"
      ]
    },
    {
      "cell_type": "markdown",
      "metadata": {
        "id": "maThqsLZmuiG"
      },
      "source": [
        "## Quotes for notes"
      ]
    },
    {
      "cell_type": "code",
      "execution_count": 2,
      "metadata": {
        "id": "Cpnk3Vu8muiG"
      },
      "outputs": [],
      "source": [
        "word = 'word'\n",
        "sentence = \"This is a sentence.\"\n",
        "paragraph = \"\"\"This is a paragraph. It is\n",
        "made up of multiple lines and sentences.\"\"\""
      ]
    },
    {
      "cell_type": "markdown",
      "metadata": {
        "id": "NymmTGRvmuiG"
      },
      "source": [
        "## Data Types\n",
        "\n",
        "![cs.png](attachment:cs.png)\n",
        "\n"
      ]
    },
    {
      "cell_type": "markdown",
      "metadata": {
        "id": "PBM8ayb5muiG"
      },
      "source": [
        "## Operators\n",
        "\n",
        "Arithmetic Operators (+, -, *, /, %, **, //) <br>\n",
        "Comparison Operators (==, !=, <>, >, <, >=, <=) <br>\n",
        "Assignment Operators (=, +=, -=, *=, /=, %=, **=, //=)   <br> Eg.,a = a + 5   ->  a += 5\n",
        "Logical Operators (and, or, not) <br>\n",
        "Membership Operators (in, not in)  "
      ]
    },
    {
      "cell_type": "code",
      "execution_count": 3,
      "metadata": {
        "colab": {
          "base_uri": "https://localhost:8080/"
        },
        "id": "mI5G0BkomuiG",
        "outputId": "3e4264f3-252f-40b2-84ee-a87fb98845fc"
      },
      "outputs": [
        {
          "output_type": "stream",
          "name": "stdout",
          "text": [
            "True ---- False\n"
          ]
        }
      ],
      "source": [
        "a = ['stan','lucy','kate']\n",
        "print('stan' in a,'----' ,'drake' in a)"
      ]
    },
    {
      "cell_type": "markdown",
      "metadata": {
        "id": "mHf5TJBBmuiH"
      },
      "source": [
        "## Enough of boring stuff ....Let the fun begin !!"
      ]
    },
    {
      "cell_type": "code",
      "execution_count": 4,
      "metadata": {
        "colab": {
          "base_uri": "https://localhost:8080/"
        },
        "id": "B6dkSIDcmuiH",
        "outputId": "58f6b58f-1368-40e7-c449-c32cfb558af1"
      },
      "outputs": [
        {
          "output_type": "stream",
          "name": "stdout",
          "text": [
            "Hey, Multiverse !!\n"
          ]
        }
      ],
      "source": [
        "print(\"Hey, Multiverse !!\")         # Python 2.7 -> print \"Hey, Multiverse\" or print (\"Hey, Multiverse\")"
      ]
    },
    {
      "cell_type": "code",
      "execution_count": 5,
      "metadata": {
        "colab": {
          "base_uri": "https://localhost:8080/"
        },
        "id": "qIde8d_LmuiH",
        "outputId": "99bdc8ea-ac32-45cd-94e1-c257d709dc27"
      },
      "outputs": [
        {
          "output_type": "stream",
          "name": "stdout",
          "text": [
            "In-line if condition\n"
          ]
        }
      ],
      "source": [
        "a = 10\n",
        "if (a == 10) : print (\"In-line if condition\")"
      ]
    },
    {
      "cell_type": "markdown",
      "metadata": {
        "id": "dHilmkzDmuiH"
      },
      "source": [
        "## Loop, If, Else If, Continue, Break, Pass"
      ]
    },
    {
      "cell_type": "code",
      "execution_count": 6,
      "metadata": {
        "colab": {
          "base_uri": "https://localhost:8080/"
        },
        "id": "0EPFLwjLmuiH",
        "outputId": "85662dd5-2056-45a8-9c6c-c32e370d2297"
      },
      "outputs": [
        {
          "output_type": "stream",
          "name": "stdout",
          "text": [
            "Printing at a value  7\n",
            "Pass is a null statement, used during code development\n",
            "Breaking loop at  4\n"
          ]
        }
      ],
      "source": [
        "while a != 0:\n",
        "    a = a-1                       # decrements by 1\n",
        "    if a==7:\n",
        "        print(\"Printing at a value \",7)\n",
        "    elif a==5:\n",
        "        continue                  # Continue statement will carry on with the next loop (Ignores statements below it)\n",
        "        print(\"This print statement is never printed due to continue statement\")\n",
        "    elif a==6:\n",
        "        pass\n",
        "        print(\"Pass is a null statement, used during code development\")\n",
        "    elif a==4:\n",
        "        print(\"Breaking loop at \",4)\n",
        "        break                           # Breaks out of a loop"
      ]
    },
    {
      "cell_type": "markdown",
      "metadata": {
        "id": "5Bu3l9a7muiI"
      },
      "source": [
        "## Useful Mathematical Functions"
      ]
    },
    {
      "cell_type": "code",
      "execution_count": 7,
      "metadata": {
        "colab": {
          "base_uri": "https://localhost:8080/"
        },
        "id": "71WTbGeSmuiI",
        "outputId": "8b15a793-b0af-45bb-becd-1fe801f70f11"
      },
      "outputs": [
        {
          "output_type": "stream",
          "name": "stdout",
          "text": [
            "4.3\n",
            "-4\n",
            "0.013568559012200934\n",
            "0.050765774772264724\n",
            "-4\n",
            "2.073644135332772\n"
          ]
        }
      ],
      "source": [
        "import math as m\n",
        "\n",
        "x = -4.3\n",
        "\n",
        "print(abs(x))           # gives the absolute value\n",
        "print(m.ceil(x))        # rounds up to the greater value\n",
        "print(m.exp(x))         # returns exponential value of x\n",
        "print(m.pow(2,x))       # finds the power of specified integer, here it's 2.\n",
        "print(round(x))         # x rounded to n digits from the decimal point\n",
        "print(m.sqrt(abs(x)))   # to find square root of x"
      ]
    },
    {
      "cell_type": "markdown",
      "metadata": {
        "id": "kzNgX4MCmuiI"
      },
      "source": [
        "## Playing with Strings"
      ]
    },
    {
      "cell_type": "code",
      "execution_count": 8,
      "metadata": {
        "colab": {
          "base_uri": "https://localhost:8080/"
        },
        "id": "GcdlVTj6muiI",
        "outputId": "4ff81188-2d13-4fc6-a798-a7cfa3ebf364"
      },
      "outputs": [
        {
          "output_type": "stream",
          "name": "stdout",
          "text": [
            "L s c\n",
            "Let's Let's\n",
            "scr\n",
            "scramble this statement\n",
            "t\n",
            "state\n",
            "statement\n",
            "Let's scramble this statement for good\n",
            "scramblescramblescramble\n",
            "True\n",
            "True\n",
            "My name is Yash\n"
          ]
        }
      ],
      "source": [
        "y = \"Let's scramble this statement\"\n",
        "    #012345678910           -3-2-1\n",
        "\n",
        "print(y[0],y[4],y[7])            # prints the character positions specified\n",
        "print(y[0:5],y[:5])              # prints from 0 to 4  .... 5 is excluded.\n",
        "print(y[6:9])                    # prints from 6 to 8........9 is excluded.\n",
        "print(y[6:])                     # prints from specified index to the end.\n",
        "print(y[-1])                     # prints the last character.  Index starts from -1\n",
        "print(y[-9:-4])                  # prints the characters of negative indexes.\n",
        "print(y[-9:])                    # prints from negative inidex to last index.\n",
        "print(y + \" for good\")           # + is used to add more text to the specified string\n",
        "print(y[6:14] * 3)               # * concatenating multiple copies of the same string\n",
        "print(\"scramble\" in y)           # membership operator \"in\" returns true if the given string is found\n",
        "print(\"that\" not in y)           # membership operator \"not in\" returns true if the give string is not present\n",
        "print (\"My name is %s\"%('Yash')) # % operator is used for string formatting in print statement"
      ]
    },
    {
      "cell_type": "markdown",
      "metadata": {
        "id": "ZXZBenv_muiI"
      },
      "source": [
        "## Some Built-in String Methods"
      ]
    },
    {
      "cell_type": "code",
      "execution_count": 9,
      "metadata": {
        "colab": {
          "base_uri": "https://localhost:8080/",
          "height": 244
        },
        "id": "pWmUiihnmuiI",
        "outputId": "d3fa0b4a-e1fc-4001-eed2-8d14bb45b551"
      },
      "outputs": [
        {
          "output_type": "stream",
          "name": "stdout",
          "text": [
            "I am groot\n",
            "2 1\n",
            "True False\n",
            "True True False\n",
            "5 -1\n",
            "False True\n",
            "10\n",
            "    get rid of the spaces         33\n",
            "get rid of the spaces         29\n",
            "    get rid of the spaces 25\n",
            "get rid of the spaces 21\n",
            "['i', 'am', 'groot']\n"
          ]
        },
        {
          "output_type": "execute_result",
          "data": {
            "text/plain": [
              "\"i'm groot\""
            ],
            "application/vnd.google.colaboratory.intrinsic+json": {
              "type": "string"
            }
          },
          "metadata": {},
          "execution_count": 9
        }
      ],
      "source": [
        "z = \"i am groot\"\n",
        "z1 = \"456\"\n",
        "z2 = \"    get rid of the spaces        \"\n",
        "\n",
        "print(z.capitalize())\n",
        "print(z.count('o'), z.count('am'))\n",
        "print(z.startswith('i'), z.startswith('I'))\n",
        "print(z.endswith('ot'), z.endswith('root'), z.endswith('tot'))\n",
        "print(z.find('gr'), z.find('nr'))\n",
        "print(z.isdigit(), z1.isdigit())\n",
        "print(len(z))\n",
        "print(z2, len(z2))\n",
        "print(z2.lstrip(),len(z2.lstrip()))\n",
        "print(z2.rstrip(),len(z2.rstrip()))\n",
        "print(z2.strip(), len(z2.strip()))\n",
        "print(z.split())\n",
        "z = z.split()\n",
        "z[0] = \"i'm \"\n",
        "z = z[0] + z[2]\n",
        "z"
      ]
    },
    {
      "cell_type": "markdown",
      "metadata": {
        "id": "NiYKdezdmuiI"
      },
      "source": [
        "## Python Lists ..  [Arrays with a swag]"
      ]
    },
    {
      "cell_type": "code",
      "execution_count": 10,
      "metadata": {
        "id": "T9JZ6jvWmuiJ"
      },
      "outputs": [],
      "source": [
        "lis = [1,2,\"hi\",\"hey\"]"
      ]
    },
    {
      "cell_type": "code",
      "execution_count": 11,
      "metadata": {
        "colab": {
          "base_uri": "https://localhost:8080/"
        },
        "id": "aGgnbNUomuiJ",
        "outputId": "364769f4-01c7-47c8-8eef-15cfb36c56e6"
      },
      "outputs": [
        {
          "output_type": "execute_result",
          "data": {
            "text/plain": [
              "('hi', 'hey')"
            ]
          },
          "metadata": {},
          "execution_count": 11
        }
      ],
      "source": [
        "lis[2],lis[3]            # Accessing list elements"
      ]
    },
    {
      "cell_type": "code",
      "execution_count": 12,
      "metadata": {
        "colab": {
          "base_uri": "https://localhost:8080/"
        },
        "id": "Qv3wmCYKmuiJ",
        "outputId": "147c2c11-e1ac-4ba0-e02b-8de336ed2bea"
      },
      "outputs": [
        {
          "output_type": "execute_result",
          "data": {
            "text/plain": [
              "[1, 'boom', 'hi', 'hey']"
            ]
          },
          "metadata": {},
          "execution_count": 12
        }
      ],
      "source": [
        "lis[1] = \"boom\"          # Updating list elements\n",
        "lis"
      ]
    },
    {
      "cell_type": "code",
      "execution_count": 13,
      "metadata": {
        "colab": {
          "base_uri": "https://localhost:8080/"
        },
        "id": "H3v_7ioAmuiJ",
        "outputId": "6fb91a6f-ac0c-4943-936e-e74d450102ab"
      },
      "outputs": [
        {
          "output_type": "execute_result",
          "data": {
            "text/plain": [
              "[1, 'boom', 'hi']"
            ]
          },
          "metadata": {},
          "execution_count": 13
        }
      ],
      "source": [
        "del lis[3]               # deleting list elements\n",
        "lis"
      ]
    },
    {
      "cell_type": "markdown",
      "metadata": {
        "id": "KEYRg1KlmuiK"
      },
      "source": [
        "## Basic list operations\n",
        "\n",
        "![image.png](attachment:image.png)"
      ]
    },
    {
      "cell_type": "code",
      "execution_count": 14,
      "metadata": {
        "colab": {
          "base_uri": "https://localhost:8080/"
        },
        "id": "fwK4hy6QmuiK",
        "outputId": "3d902a1d-f0aa-4cd3-abf6-4bd815d17799"
      },
      "outputs": [
        {
          "output_type": "stream",
          "name": "stdout",
          "text": [
            "max-> 76   min-> -9\n",
            "[-9, 2, 45, 76]\n"
          ]
        }
      ],
      "source": [
        "lis2 = [2,45,-9,76]\n",
        "print(\"max->\",max(lis2),\"  min->\",min(lis2))           # finding max and min\n",
        "\n",
        "lis2.sort()                                            # method to sort list elements\n",
        "print(lis2)"
      ]
    },
    {
      "cell_type": "markdown",
      "metadata": {
        "id": "M_Tal37BmuiK"
      },
      "source": [
        "## Built-in list methods"
      ]
    },
    {
      "cell_type": "code",
      "execution_count": 15,
      "metadata": {
        "colab": {
          "base_uri": "https://localhost:8080/"
        },
        "id": "0j_XaBTEmuiK",
        "outputId": "256718fe-cac6-4b1d-aac7-597dc9b9b103"
      },
      "outputs": [
        {
          "output_type": "stream",
          "name": "stdout",
          "text": [
            "append -> [1, 4, 4, 'something', 'here', 'and here']\n",
            "count -> 2\n",
            "appending another list -> [1, 4, 4, 'something', 'here', 'and here', [56, 'new list']]\n",
            "extending another list -> [1, 4, 4, 'something', 'here', 'and here', 56, 'new list']\n",
            "1\n",
            "[1, 4, 4, 'inject', 'something', 'here', 'and here', 56, 'new list']\n",
            "inject\n",
            "[1, 4, 4, 'something', 'here', 'and here', 56, 'new list'] <--- an element is popped from here\n",
            "['new list', 56, 'and here', 'here', 'something', 4, 4, 1]\n"
          ]
        }
      ],
      "source": [
        "lis3 = [1,4,4,\"something\",\"here\"]\n",
        "lis3.append(\"and here\")                            # appending an obj to the list\n",
        "print(\"append ->\" ,lis3)\n",
        "\n",
        "print(\"count ->\",lis3.count(4))                    # returns the count of how many times an obj occurs\n",
        "\n",
        "lis3.append([56,\"new list\"])                       # appending a new list to the original list\n",
        "print(\"appending another list ->\",lis3)\n",
        "\n",
        "del lis3[-1]\n",
        "\n",
        "lis3.extend([56,\"new list\"])                       # extending a new list to the original list\n",
        "print(\"extending another list ->\",lis3)\n",
        "\n",
        "print(lis3.index(4))                               # returns the lowest index of an object\n",
        "\n",
        "lis3.insert(3, \"inject\")                           # inserting an object at position 3\n",
        "print(lis3)\n",
        "\n",
        "print(lis3.pop(3))                                 # pops out the element from list\n",
        "print(lis3, \"<--- an element is popped from here\")\n",
        "\n",
        "lis3.reverse()                                     # reverses the order of the list\n",
        "print(lis3)\n",
        "\n"
      ]
    },
    {
      "cell_type": "markdown",
      "metadata": {
        "id": "0rUqa-b6muiK"
      },
      "source": [
        "## Tuples - Lists without duplicates"
      ]
    },
    {
      "cell_type": "code",
      "execution_count": 16,
      "metadata": {
        "colab": {
          "base_uri": "https://localhost:8080/",
          "height": 211
        },
        "id": "pN9oNpWomuiK",
        "outputId": "5f3da718-a3c1-44c3-99c5-2b7f5a0d17e7"
      },
      "outputs": [
        {
          "output_type": "error",
          "ename": "TypeError",
          "evalue": "ignored",
          "traceback": [
            "\u001b[0;31m---------------------------------------------------------------------------\u001b[0m",
            "\u001b[0;31mTypeError\u001b[0m                                 Traceback (most recent call last)",
            "\u001b[0;32m<ipython-input-16-325d8aaa802c>\u001b[0m in \u001b[0;36m<cell line: 4>\u001b[0;34m()\u001b[0m\n\u001b[1;32m      2\u001b[0m \u001b[0;34m\u001b[0m\u001b[0m\n\u001b[1;32m      3\u001b[0m \u001b[0mtup\u001b[0m \u001b[0;34m=\u001b[0m \u001b[0;34m(\u001b[0m\u001b[0;36m1\u001b[0m\u001b[0;34m,\u001b[0m\u001b[0;36m4\u001b[0m\u001b[0;34m,\u001b[0m\u001b[0;34m\"this\"\u001b[0m\u001b[0;34m,\u001b[0m\u001b[0;34m\"tuple\"\u001b[0m\u001b[0;34m)\u001b[0m\u001b[0;34m\u001b[0m\u001b[0;34m\u001b[0m\u001b[0m\n\u001b[0;32m----> 4\u001b[0;31m \u001b[0;32mdel\u001b[0m \u001b[0mtup\u001b[0m\u001b[0;34m[\u001b[0m\u001b[0;36m0\u001b[0m\u001b[0;34m]\u001b[0m                    \u001b[0;31m#cannot delete any element, outputs TypeError\u001b[0m\u001b[0;34m\u001b[0m\u001b[0;34m\u001b[0m\u001b[0m\n\u001b[0m",
            "\u001b[0;31mTypeError\u001b[0m: 'tuple' object doesn't support item deletion"
          ]
        }
      ],
      "source": [
        "# Tuples cannot be changed unlike lists and they use parenthesis\n",
        "\n",
        "tup = (1,4,\"this\",\"tuple\")\n",
        "del tup[0]                    #cannot delete any element, outputs TypeError"
      ]
    },
    {
      "cell_type": "markdown",
      "metadata": {
        "id": "j6MJ_JtWmuiK"
      },
      "source": [
        "## Dictionary"
      ]
    },
    {
      "cell_type": "code",
      "execution_count": null,
      "metadata": {
        "id": "ouBZzkGumuiK"
      },
      "outputs": [],
      "source": [
        "dict = {\"name\" : \"robert\", \"age\" : 56, \"profession\" : \"iron-man\" }\n",
        "\n",
        "print(dict[\"name\"])                              # Accessing a dictionary value using key\n",
        "\n",
        "dict[\"name\"] = \"robert downey\"                   # Updating a value using key\n",
        "\n",
        "print(dict)\n",
        "\n",
        "del dict[\"age\"]                                  # Deleting a value\n",
        "\n",
        "print(dict)\n",
        "print(\"name\" in dict)\n"
      ]
    },
    {
      "cell_type": "markdown",
      "metadata": {
        "id": "zZZC_vfomuiL"
      },
      "source": [
        "## Functions"
      ]
    },
    {
      "cell_type": "code",
      "execution_count": null,
      "metadata": {
        "id": "TuAvNSd-muiL"
      },
      "outputs": [],
      "source": [
        "def fun(a):\n",
        "    a = a * 5\n",
        "    print(a)\n",
        "\n",
        "fun(5)"
      ]
    },
    {
      "cell_type": "code",
      "execution_count": null,
      "metadata": {
        "id": "-Y0fWAvtmuiL"
      },
      "outputs": [],
      "source": [
        "def args(state, university=\"Sac State\"):                                    # default arguments\n",
        "    print(\"State :\", state,\"  University :\",university)\n",
        "\n",
        "args(\"CA\")"
      ]
    },
    {
      "cell_type": "code",
      "execution_count": null,
      "metadata": {
        "id": "zNEepdjkmuiP"
      },
      "outputs": [],
      "source": []
    },
    {
      "cell_type": "code",
      "execution_count": null,
      "metadata": {
        "id": "umCc0moGmuiP"
      },
      "outputs": [],
      "source": []
    }
  ],
  "metadata": {
    "kernelspec": {
      "display_name": "Python 3",
      "language": "python",
      "name": "python3"
    },
    "language_info": {
      "codemirror_mode": {
        "name": "ipython",
        "version": 3
      },
      "file_extension": ".py",
      "mimetype": "text/x-python",
      "name": "python",
      "nbconvert_exporter": "python",
      "pygments_lexer": "ipython3",
      "version": "3.7.6"
    },
    "colab": {
      "provenance": [],
      "include_colab_link": true
    }
  },
  "nbformat": 4,
  "nbformat_minor": 0
}