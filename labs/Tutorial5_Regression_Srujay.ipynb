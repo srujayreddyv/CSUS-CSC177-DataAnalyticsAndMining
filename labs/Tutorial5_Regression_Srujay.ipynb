{
  "cells": [
    {
      "cell_type": "markdown",
      "metadata": {
        "id": "view-in-github",
        "colab_type": "text"
      },
      "source": [
        "<a href=\"https://colab.research.google.com/github/srujayreddyv/CSUS-CSC177-DataAnalyticsAndMining/blob/main/labs/Tutorial5_Regression_Srujay.ipynb\" target=\"_parent\"><img src=\"https://colab.research.google.com/assets/colab-badge.svg\" alt=\"Open In Colab\"/></a>"
      ]
    },
    {
      "cell_type": "markdown",
      "metadata": {
        "id": "5nIdfKEfU_Sc"
      },
      "source": [
        "# Module 5: Regression\n",
        "\n",
        "The following tutorial contains Python examples for solving regression problems. You should refer to the Appendix chapter on regression of the \"Introduction to Data Mining\" book to understand some of the concepts introduced in this tutorial.\n",
        "\n",
        "Regression is a modeling technique for predicting quantitative-valued target attributes. The goals for this tutorial are as follows:\n",
        "1. To provide examples of using different regression methods from the scikit-learn library package.\n",
        "2. To demonstrate the problem of model overfitting due to correlated attributes in the data.\n",
        "3. To illustrate how regularization can be used to avoid model overfitting.\n",
        "\n",
        "Read the step-by-step instructions below carefully. To execute the code, click on the corresponding cell and press the SHIFT-ENTER keys simultaneously."
      ]
    },
    {
      "cell_type": "markdown",
      "metadata": {
        "heading_collapsed": true,
        "id": "SJJ0k_4GU_Sh"
      },
      "source": [
        "## Synthetic Data Generation\n",
        "\n",
        "To illustrate how linear regression works, we first generate a random 1-dimensional vector of predictor variables, x, from a uniform distribution. The response variable y has a linear relationship with x according to the following equation:  y = -3x + 1 + epsilon, where epsilon corresponds to random noise sampled from a Gaussian distribution with mean 0 and standard deviation of 1."
      ]
    },
    {
      "cell_type": "code",
      "execution_count": 1,
      "metadata": {
        "hidden": true,
        "colab": {
          "base_uri": "https://localhost:8080/",
          "height": 490
        },
        "id": "6N_2AOdDU_Sh",
        "outputId": "72d1340b-d97e-468d-a9d4-c0623cd97186"
      },
      "outputs": [
        {
          "output_type": "execute_result",
          "data": {
            "text/plain": [
              "Text(0, 0.5, 'y')"
            ]
          },
          "metadata": {},
          "execution_count": 1
        },
        {
          "output_type": "display_data",
          "data": {
            "text/plain": [
              "<Figure size 640x480 with 1 Axes>"
            ],
            "image/png": "[encoded data removed]"
          },
          "metadata": {}
        }
      ],
      "source": [
        "%matplotlib inline\n",
        "import numpy as np\n",
        "import matplotlib.pyplot as plt\n",
        "\n",
        "seed = 1            # seed for random number generation\n",
        "numInstances = 200  # number of data instances\n",
        "np.random.seed(seed)\n",
        "X = np.random.rand(numInstances,1).reshape(-1,1)\n",
        "y_true = -3*X + 1\n",
        "y = y_true + np.random.normal(size=numInstances).reshape(-1,1)\n",
        "\n",
        "plt.scatter(X, y,  color='black')\n",
        "plt.plot(X, y_true, color='blue', linewidth=3)\n",
        "plt.title('True function: y = -3X + 1')\n",
        "plt.xlabel('X')\n",
        "plt.ylabel('y')"
      ]
    },
    {
      "cell_type": "markdown",
      "metadata": {
        "heading_collapsed": true,
        "id": "_DmBMgGoU_Sj"
      },
      "source": [
        "## Multiple Linear Regression\n",
        "\n",
        "In this example, we illustrate how to use Python scikit-learn package to fit a multiple linear regression (MLR) model. Given a training set {X,y}, MLR is designed to learn the regression function $f(X,w) = X^T w + w_0$ by minimizing the following loss function given a training set $\\{X_i,y_i\\}_{i=1}^N$:\n",
        "$$L(y,f(X,w)) = \\sum_{i=1}^N \\|y_i - X_i w - w_0\\|^2,$$\n",
        "where $w$ (slope) and $w_0$ (intercept) are the regression coefficients.\n",
        "\n",
        "Given the input dataset, the following steps are performed:\n",
        "1. Split the input data into their respective training and test sets.\n",
        "2. Fit multiple linear regression to the training data.\n",
        "3. Apply the model to the test data.\n",
        "4. Evaluate the performance of the model.\n",
        "5. Postprocessing: Visualizing the fitted model."
      ]
    },
    {
      "cell_type": "markdown",
      "metadata": {
        "heading_collapsed": true,
        "hidden": true,
        "id": "j2KAa7chU_Sk"
      },
      "source": [
        "#### Step 1: Split Input Data into Training and Test Sets"
      ]
    },
    {
      "cell_type": "code",
      "execution_count": 2,
      "metadata": {
        "hidden": true,
        "id": "26AnxDX7U_Sl"
      },
      "outputs": [],
      "source": [
        "numTrain = 20   # number of training instances\n",
        "numTest = numInstances - numTrain\n",
        "\n",
        "X_train = X[:-numTest]\n",
        "X_test = X[-numTest:]\n",
        "y_train = y[:-numTest]\n",
        "y_test = y[-numTest:]"
      ]
    },
    {
      "cell_type": "markdown",
      "metadata": {
        "heading_collapsed": true,
        "hidden": true,
        "id": "TymWI4PLU_Sl"
      },
      "source": [
        "#### Step 2: Fit Regression Model to Training Set"
      ]
    },
    {
      "cell_type": "code",
      "execution_count": 3,
      "metadata": {
        "hidden": true,
        "colab": {
          "base_uri": "https://localhost:8080/",
          "height": 75
        },
        "id": "QMaQiBOWU_Sl",
        "outputId": "998bf513-9b25-46d5-fa33-a13784604138"
      },
      "outputs": [
        {
          "output_type": "execute_result",
          "data": {
            "text/plain": [
              "LinearRegression()"
            ],
            "text/html": [
              "<style>#sk-container-id-1 {color: black;background-color: white;}#sk-container-id-1 pre{padding: 0;}#sk-container-id-1 div.sk-toggleable {background-color: white;}#sk-container-id-1 label.sk-toggleable__label {cursor: pointer;display: block;width: 100%;margin-bottom: 0;padding: 0.3em;box-sizing: border-box;text-align: center;}#sk-container-id-1 label.sk-toggleable__label-arrow:before {content: \"▸\";float: left;margin-right: 0.25em;color: #696969;}#sk-container-id-1 label.sk-toggleable__label-arrow:hover:before {color: black;}#sk-container-id-1 div.sk-estimator:hover label.sk-toggleable__label-arrow:before {color: black;}#sk-container-id-1 div.sk-toggleable__content {max-height: 0;max-width: 0;overflow: hidden;text-align: left;background-color: #f0f8ff;}#sk-container-id-1 div.sk-toggleable__content pre {margin: 0.2em;color: black;border-radius: 0.25em;background-color: #f0f8ff;}#sk-container-id-1 input.sk-toggleable__control:checked~div.sk-toggleable__content {max-height: 200px;max-width: 100%;overflow: auto;}#sk-container-id-1 input.sk-toggleable__control:checked~label.sk-toggleable__label-arrow:before {content: \"▾\";}#sk-container-id-1 div.sk-estimator input.sk-toggleable__control:checked~label.sk-toggleable__label {background-color: #d4ebff;}#sk-container-id-1 div.sk-label input.sk-toggleable__control:checked~label.sk-toggleable__label {background-color: #d4ebff;}#sk-container-id-1 input.sk-hidden--visually {border: 0;clip: rect(1px 1px 1px 1px);clip: rect(1px, 1px, 1px, 1px);height: 1px;margin: -1px;overflow: hidden;padding: 0;position: absolute;width: 1px;}#sk-container-id-1 div.sk-estimator {font-family: monospace;background-color: #f0f8ff;border: 1px dotted black;border-radius: 0.25em;box-sizing: border-box;margin-bottom: 0.5em;}#sk-container-id-1 div.sk-estimator:hover {background-color: #d4ebff;}#sk-container-id-1 div.sk-parallel-item::after {content: \"\";width: 100%;border-bottom: 1px solid gray;flex-grow: 1;}#sk-container-id-1 div.sk-label:hover label.sk-toggleable__label {background-color: #d4ebff;}#sk-container-id-1 div.sk-serial::before {content: \"\";position: absolute;border-left: 1px solid gray;box-sizing: border-box;top: 0;bottom: 0;left: 50%;z-index: 0;}#sk-container-id-1 div.sk-serial {display: flex;flex-direction: column;align-items: center;background-color: white;padding-right: 0.2em;padding-left: 0.2em;position: relative;}#sk-container-id-1 div.sk-item {position: relative;z-index: 1;}#sk-container-id-1 div.sk-parallel {display: flex;align-items: stretch;justify-content: center;background-color: white;position: relative;}#sk-container-id-1 div.sk-item::before, #sk-container-id-1 div.sk-parallel-item::before {content: \"\";position: absolute;border-left: 1px solid gray;box-sizing: border-box;top: 0;bottom: 0;left: 50%;z-index: -1;}#sk-container-id-1 div.sk-parallel-item {display: flex;flex-direction: column;z-index: 1;position: relative;background-color: white;}#sk-container-id-1 div.sk-parallel-item:first-child::after {align-self: flex-end;width: 50%;}#sk-container-id-1 div.sk-parallel-item:last-child::after {align-self: flex-start;width: 50%;}#sk-container-id-1 div.sk-parallel-item:only-child::after {width: 0;}#sk-container-id-1 div.sk-dashed-wrapped {border: 1px dashed gray;margin: 0 0.4em 0.5em 0.4em;box-sizing: border-box;padding-bottom: 0.4em;background-color: white;}#sk-container-id-1 div.sk-label label {font-family: monospace;font-weight: bold;display: inline-block;line-height: 1.2em;}#sk-container-id-1 div.sk-label-container {text-align: center;}#sk-container-id-1 div.sk-container {/* jupyter's `normalize.less` sets `[hidden] { display: none; }` but bootstrap.min.css set `[hidden] { display: none !important; }` so we also need the `!important` here to be able to override the default hidden behavior on the sphinx rendered scikit-learn.org. See: https://github.com/scikit-learn/scikit-learn/issues/21755 */display: inline-block !important;position: relative;}#sk-container-id-1 div.sk-text-repr-fallback {display: none;}</style><div id=\"sk-container-id-1\" class=\"sk-top-container\"><div class=\"sk-text-repr-fallback\"><pre>LinearRegression()</pre><b>In a Jupyter environment, please rerun this cell to show the HTML representation or trust the notebook. <br />On GitHub, the HTML representation is unable to render, please try loading this page with nbviewer.org.</b></div><div class=\"sk-container\" hidden><div class=\"sk-item\"><div class=\"sk-estimator sk-toggleable\"><input class=\"sk-toggleable__control sk-hidden--visually\" id=\"sk-estimator-id-1\" type=\"checkbox\" checked><label for=\"sk-estimator-id-1\" class=\"sk-toggleable__label sk-toggleable__label-arrow\">LinearRegression</label><div class=\"sk-toggleable__content\"><pre>LinearRegression()</pre></div></div></div></div></div>"
            ]
          },
          "metadata": {},
          "execution_count": 3
        }
      ],
      "source": [
        "from sklearn import linear_model\n",
        "from sklearn.metrics import mean_squared_error, r2_score\n",
        "\n",
        "# Create linear regression object\n",
        "regr = linear_model.LinearRegression()\n",
        "\n",
        "# Fit regression model to the training set\n",
        "regr.fit(X_train, y_train)"
      ]
    },
    {
      "cell_type": "markdown",
      "metadata": {
        "heading_collapsed": true,
        "hidden": true,
        "id": "jpgYpsaGU_Sm"
      },
      "source": [
        "#### Step 3: Apply Model to the Test Set"
      ]
    },
    {
      "cell_type": "code",
      "execution_count": 4,
      "metadata": {
        "hidden": true,
        "id": "FRL7cH3UU_Sn"
      },
      "outputs": [],
      "source": [
        "# Apply model to the test set\n",
        "y_pred_test = regr.predict(X_test)"
      ]
    },
    {
      "cell_type": "markdown",
      "metadata": {
        "heading_collapsed": true,
        "hidden": true,
        "id": "7HbXQamkU_Sn"
      },
      "source": [
        "#### Step 4: Evaluate Model Performance on Test Set"
      ]
    },
    {
      "cell_type": "code",
      "execution_count": 5,
      "metadata": {
        "hidden": true,
        "colab": {
          "base_uri": "https://localhost:8080/",
          "height": 508
        },
        "id": "bl0bAHiPU_Sn",
        "outputId": "9c07ceb4-0c7e-4c99-bb75-39e617e93cf0"
      },
      "outputs": [
        {
          "output_type": "stream",
          "name": "stdout",
          "text": [
            "Root mean squared error = 1.0476\n",
            "R-squared = 0.4443\n"
          ]
        },
        {
          "output_type": "display_data",
          "data": {
            "text/plain": [
              "<Figure size 640x480 with 1 Axes>"
            ],
            "image/png": "[encoded data removed]"
          },
          "metadata": {}
        }
      ],
      "source": [
        "# Comparing true versus predicted values\n",
        "plt.scatter(y_test, y_pred_test, color='black')\n",
        "plt.title('Comparing true and predicted values for test set')\n",
        "plt.xlabel('True values for y')\n",
        "plt.ylabel('Predicted values for y')\n",
        "\n",
        "# Model evaluation\n",
        "print(\"Root mean squared error = %.4f\" % np.sqrt(mean_squared_error(y_test, y_pred_test)))\n",
        "print('R-squared = %.4f' % r2_score(y_test, y_pred_test))"
      ]
    },
    {
      "cell_type": "markdown",
      "metadata": {
        "heading_collapsed": true,
        "hidden": true,
        "id": "krqmLyaNU_Sn"
      },
      "source": [
        "#### Step 5: Postprocessing"
      ]
    },
    {
      "cell_type": "code",
      "execution_count": 6,
      "metadata": {
        "hidden": true,
        "colab": {
          "base_uri": "https://localhost:8080/",
          "height": 526
        },
        "id": "tZbJl7e2U_So",
        "outputId": "9478b60a-8b80-4baa-eaae-f449c1f05e8d"
      },
      "outputs": [
        {
          "output_type": "stream",
          "name": "stdout",
          "text": [
            "Slope =  -3.2423545446565036\n",
            "Intercept =  1.0805993038584842\n"
          ]
        },
        {
          "output_type": "execute_result",
          "data": {
            "text/plain": [
              "Text(0, 0.5, 'y')"
            ]
          },
          "metadata": {},
          "execution_count": 6
        },
        {
          "output_type": "display_data",
          "data": {
            "text/plain": [
              "<Figure size 640x480 with 1 Axes>"
            ],
            "image/png": "[encoded data removed]"
          },
          "metadata": {}
        }
      ],
      "source": [
        "# Display model parameters\n",
        "print('Slope = ', regr.coef_[0][0])\n",
        "print('Intercept = ', regr.intercept_[0])### Step 4: Postprocessing\n",
        "\n",
        "# Plot outputs\n",
        "plt.scatter(X_test, y_test,  color='black')\n",
        "plt.plot(X_test, y_pred_test, color='blue', linewidth=3)\n",
        "titlestr = 'Predicted Function: y = %.2fX + %.2f' % (regr.coef_[0], regr.intercept_[0])\n",
        "plt.title(titlestr)\n",
        "plt.xlabel('X')\n",
        "plt.ylabel('y')"
      ]
    },
    {
      "cell_type": "markdown",
      "metadata": {
        "heading_collapsed": true,
        "id": "WcukxNjCU_So"
      },
      "source": [
        "## Effect of Correlated Attributes\n",
        "\n",
        "In this example, we illustrate how the presence of correlated attributes can affect the performance of regression models. Specifically, we create 4 additional variables, X2, X3, X4, and X5 that are strongly correlated with the previous variable X created in Section 5.1. The relationship between X and y remains the same as before. We then fit y against the predictor variables and compare their training and test set errors.\n",
        "\n",
        "First, we create the correlated attributes below."
      ]
    },
    {
      "cell_type": "code",
      "execution_count": 7,
      "metadata": {
        "hidden": true,
        "colab": {
          "base_uri": "https://localhost:8080/",
          "height": 813
        },
        "id": "V8pr4XO1U_So",
        "outputId": "e20b3e0e-17de-4118-a121-04321e0324be"
      },
      "outputs": [
        {
          "output_type": "execute_result",
          "data": {
            "text/plain": [
              "Text(0.5, 1.0, 'Correlation between X4 and X5 = 0.9190')"
            ]
          },
          "metadata": {},
          "execution_count": 7
        },
        {
          "output_type": "display_data",
          "data": {
            "text/plain": [
              "<Figure size 1200x900 with 4 Axes>"
            ],
            "image/png": "[encoded data removed]"
          },
          "metadata": {}
        }
      ],
      "source": [
        "seed = 1\n",
        "np.random.seed(seed)\n",
        "X2 = 0.5*X + np.random.normal(0, 0.04, size=numInstances).reshape(-1,1)\n",
        "X3 = 0.5*X2 + np.random.normal(0, 0.01, size=numInstances).reshape(-1,1)\n",
        "X4 = 0.5*X3 + np.random.normal(0, 0.01, size=numInstances).reshape(-1,1)\n",
        "X5 = 0.5*X4 + np.random.normal(0, 0.01, size=numInstances).reshape(-1,1)\n",
        "\n",
        "fig, ((ax1, ax2),(ax3,ax4)) = plt.subplots(2, 2, figsize=(12,9))\n",
        "ax1.scatter(X, X2, color='black')\n",
        "ax1.set_xlabel('X')\n",
        "ax1.set_ylabel('X2')\n",
        "c = np.corrcoef(np.column_stack((X[:-numTest],X2[:-numTest])).T)\n",
        "titlestr = 'Correlation between X and X2 = %.4f' % (c[0,1])\n",
        "ax1.set_title(titlestr)\n",
        "\n",
        "ax2.scatter(X2, X3, color='black')\n",
        "ax2.set_xlabel('X2')\n",
        "ax2.set_ylabel('X3')\n",
        "c = np.corrcoef(np.column_stack((X2[:-numTest],X3[:-numTest])).T)\n",
        "titlestr = 'Correlation between X2 and X3 = %.4f' % (c[0,1])\n",
        "ax2.set_title(titlestr)\n",
        "\n",
        "ax3.scatter(X3, X4, color='black')\n",
        "ax3.set_xlabel('X3')\n",
        "ax3.set_ylabel('X4')\n",
        "c = np.corrcoef(np.column_stack((X3[:-numTest],X4[:-numTest])).T)\n",
        "titlestr = 'Correlation between X3 and X4 = %.4f' % (c[0,1])\n",
        "ax3.set_title(titlestr)\n",
        "\n",
        "ax4.scatter(X4, X5, color='black')\n",
        "ax4.set_xlabel('X4')\n",
        "ax4.set_ylabel('X5')\n",
        "c = np.corrcoef(np.column_stack((X4[:-numTest],X5[:-numTest])).T)\n",
        "titlestr = 'Correlation between X4 and X5 = %.4f' % (c[0,1])\n",
        "ax4.set_title(titlestr)"
      ]
    },
    {
      "cell_type": "markdown",
      "metadata": {
        "hidden": true,
        "id": "mXigC6-xU_Sp"
      },
      "source": [
        "Next, we create 4 additional versions of the training and test sets. The first version, X_train2 and X_test2 have 2 correlated predictor variables, X and X2. The second version, X_train3 and X_test3 have 3 correlated predictor variables, X, X2, and X3. The third version have 4 correlated variables, X, X2, X3, and X4 whereas the last version have 5 correlated variables, X, X2, X3, X4, and X5."
      ]
    },
    {
      "cell_type": "code",
      "execution_count": 8,
      "metadata": {
        "hidden": true,
        "id": "_ugmxGL6U_Sp"
      },
      "outputs": [],
      "source": [
        "X_train2 = np.column_stack((X[:-numTest],X2[:-numTest]))\n",
        "X_test2 = np.column_stack((X[-numTest:],X2[-numTest:]))\n",
        "X_train3 = np.column_stack((X[:-numTest],X2[:-numTest],X3[:-numTest]))\n",
        "X_test3 = np.column_stack((X[-numTest:],X2[-numTest:],X3[-numTest:]))\n",
        "X_train4 = np.column_stack((X[:-numTest],X2[:-numTest],X3[:-numTest],X4[:-numTest]))\n",
        "X_test4 = np.column_stack((X[-numTest:],X2[-numTest:],X3[-numTest:],X4[-numTest:]))\n",
        "X_train5 = np.column_stack((X[:-numTest],X2[:-numTest],X3[:-numTest],X4[:-numTest],X5[:-numTest]))\n",
        "X_test5 = np.column_stack((X[-numTest:],X2[-numTest:],X3[-numTest:],X4[-numTest:],X5[-numTest:]))"
      ]
    },
    {
      "cell_type": "markdown",
      "metadata": {
        "hidden": true,
        "id": "30eIF0YSU_Sp"
      },
      "source": [
        "Below, we train 4 new regression models based on the 4 versions of training and test data created in the previous step."
      ]
    },
    {
      "cell_type": "code",
      "execution_count": 9,
      "metadata": {
        "hidden": true,
        "colab": {
          "base_uri": "https://localhost:8080/",
          "height": 75
        },
        "id": "NxfhqmEBU_Sp",
        "outputId": "83f0d6d0-319d-4bbf-ab23-71ffac47a6d0"
      },
      "outputs": [
        {
          "output_type": "execute_result",
          "data": {
            "text/plain": [
              "LinearRegression()"
            ],
            "text/html": [
              "<style>#sk-container-id-2 {color: black;background-color: white;}#sk-container-id-2 pre{padding: 0;}#sk-container-id-2 div.sk-toggleable {background-color: white;}#sk-container-id-2 label.sk-toggleable__label {cursor: pointer;display: block;width: 100%;margin-bottom: 0;padding: 0.3em;box-sizing: border-box;text-align: center;}#sk-container-id-2 label.sk-toggleable__label-arrow:before {content: \"▸\";float: left;margin-right: 0.25em;color: #696969;}#sk-container-id-2 label.sk-toggleable__label-arrow:hover:before {color: black;}#sk-container-id-2 div.sk-estimator:hover label.sk-toggleable__label-arrow:before {color: black;}#sk-container-id-2 div.sk-toggleable__content {max-height: 0;max-width: 0;overflow: hidden;text-align: left;background-color: #f0f8ff;}#sk-container-id-2 div.sk-toggleable__content pre {margin: 0.2em;color: black;border-radius: 0.25em;background-color: #f0f8ff;}#sk-container-id-2 input.sk-toggleable__control:checked~div.sk-toggleable__content {max-height: 200px;max-width: 100%;overflow: auto;}#sk-container-id-2 input.sk-toggleable__control:checked~label.sk-toggleable__label-arrow:before {content: \"▾\";}#sk-container-id-2 div.sk-estimator input.sk-toggleable__control:checked~label.sk-toggleable__label {background-color: #d4ebff;}#sk-container-id-2 div.sk-label input.sk-toggleable__control:checked~label.sk-toggleable__label {background-color: #d4ebff;}#sk-container-id-2 input.sk-hidden--visually {border: 0;clip: rect(1px 1px 1px 1px);clip: rect(1px, 1px, 1px, 1px);height: 1px;margin: -1px;overflow: hidden;padding: 0;position: absolute;width: 1px;}#sk-container-id-2 div.sk-estimator {font-family: monospace;background-color: #f0f8ff;border: 1px dotted black;border-radius: 0.25em;box-sizing: border-box;margin-bottom: 0.5em;}#sk-container-id-2 div.sk-estimator:hover {background-color: #d4ebff;}#sk-container-id-2 div.sk-parallel-item::after {content: \"\";width: 100%;border-bottom: 1px solid gray;flex-grow: 1;}#sk-container-id-2 div.sk-label:hover label.sk-toggleable__label {background-color: #d4ebff;}#sk-container-id-2 div.sk-serial::before {content: \"\";position: absolute;border-left: 1px solid gray;box-sizing: border-box;top: 0;bottom: 0;left: 50%;z-index: 0;}#sk-container-id-2 div.sk-serial {display: flex;flex-direction: column;align-items: center;background-color: white;padding-right: 0.2em;padding-left: 0.2em;position: relative;}#sk-container-id-2 div.sk-item {position: relative;z-index: 1;}#sk-container-id-2 div.sk-parallel {display: flex;align-items: stretch;justify-content: center;background-color: white;position: relative;}#sk-container-id-2 div.sk-item::before, #sk-container-id-2 div.sk-parallel-item::before {content: \"\";position: absolute;border-left: 1px solid gray;box-sizing: border-box;top: 0;bottom: 0;left: 50%;z-index: -1;}#sk-container-id-2 div.sk-parallel-item {display: flex;flex-direction: column;z-index: 1;position: relative;background-color: white;}#sk-container-id-2 div.sk-parallel-item:first-child::after {align-self: flex-end;width: 50%;}#sk-container-id-2 div.sk-parallel-item:last-child::after {align-self: flex-start;width: 50%;}#sk-container-id-2 div.sk-parallel-item:only-child::after {width: 0;}#sk-container-id-2 div.sk-dashed-wrapped {border: 1px dashed gray;margin: 0 0.4em 0.5em 0.4em;box-sizing: border-box;padding-bottom: 0.4em;background-color: white;}#sk-container-id-2 div.sk-label label {font-family: monospace;font-weight: bold;display: inline-block;line-height: 1.2em;}#sk-container-id-2 div.sk-label-container {text-align: center;}#sk-container-id-2 div.sk-container {/* jupyter's `normalize.less` sets `[hidden] { display: none; }` but bootstrap.min.css set `[hidden] { display: none !important; }` so we also need the `!important` here to be able to override the default hidden behavior on the sphinx rendered scikit-learn.org. See: https://github.com/scikit-learn/scikit-learn/issues/21755 */display: inline-block !important;position: relative;}#sk-container-id-2 div.sk-text-repr-fallback {display: none;}</style><div id=\"sk-container-id-2\" class=\"sk-top-container\"><div class=\"sk-text-repr-fallback\"><pre>LinearRegression()</pre><b>In a Jupyter environment, please rerun this cell to show the HTML representation or trust the notebook. <br />On GitHub, the HTML representation is unable to render, please try loading this page with nbviewer.org.</b></div><div class=\"sk-container\" hidden><div class=\"sk-item\"><div class=\"sk-estimator sk-toggleable\"><input class=\"sk-toggleable__control sk-hidden--visually\" id=\"sk-estimator-id-2\" type=\"checkbox\" checked><label for=\"sk-estimator-id-2\" class=\"sk-toggleable__label sk-toggleable__label-arrow\">LinearRegression</label><div class=\"sk-toggleable__content\"><pre>LinearRegression()</pre></div></div></div></div></div>"
            ]
          },
          "metadata": {},
          "execution_count": 9
        }
      ],
      "source": [
        "regr2 = linear_model.LinearRegression()\n",
        "regr2.fit(X_train2, y_train)\n",
        "\n",
        "regr3 = linear_model.LinearRegression()\n",
        "regr3.fit(X_train3, y_train)\n",
        "\n",
        "regr4 = linear_model.LinearRegression()\n",
        "regr4.fit(X_train4, y_train)\n",
        "\n",
        "regr5 = linear_model.LinearRegression()\n",
        "regr5.fit(X_train5, y_train)"
      ]
    },
    {
      "cell_type": "markdown",
      "metadata": {
        "hidden": true,
        "id": "WxvtDcRkU_Sq"
      },
      "source": [
        "All 4 versions of the regression models are then applied to the training and test sets."
      ]
    },
    {
      "cell_type": "code",
      "execution_count": 10,
      "metadata": {
        "hidden": true,
        "id": "loE_MDIKU_Sq"
      },
      "outputs": [],
      "source": [
        "y_pred_train = regr.predict(X_train)\n",
        "y_pred_test = regr.predict(X_test)\n",
        "y_pred_train2 = regr2.predict(X_train2)\n",
        "y_pred_test2 = regr2.predict(X_test2)\n",
        "y_pred_train3 = regr3.predict(X_train3)\n",
        "y_pred_test3 = regr3.predict(X_test3)\n",
        "y_pred_train4 = regr4.predict(X_train4)\n",
        "y_pred_test4 = regr4.predict(X_test4)\n",
        "y_pred_train5 = regr5.predict(X_train5)\n",
        "y_pred_test5 = regr5.predict(X_test5)"
      ]
    },
    {
      "cell_type": "markdown",
      "metadata": {
        "hidden": true,
        "id": "k79ggyUOU_Sq"
      },
      "source": [
        "For postprocessing, we compute both the training and test errors of the models. We can also show the resulting model and the sum of the absolute weights of the regression coefficients, i.e., $\\sum_{j=0}^d |w_j|$, where $d$ is the number of predictor attributes."
      ]
    },
    {
      "cell_type": "code",
      "execution_count": 11,
      "metadata": {
        "hidden": true,
        "scrolled": true,
        "colab": {
          "base_uri": "https://localhost:8080/",
          "height": 638
        },
        "id": "9sF80G2fU_Sq",
        "outputId": "749805d5-45a2-4f5b-9cd0-28ba5ff1a4da"
      },
      "outputs": [
        {
          "output_type": "execute_result",
          "data": {
            "text/plain": [
              "                                               Model  Train error  Test error  \\\n",
              "0                                     -3.24 X + 1.08     0.891873    1.047626   \n",
              "1                           -5.90 X + 5.92 X2 + 1.00     0.856157    1.087601   \n",
              "2               -6.22 X + -2.30 X2 + 17.14 X3 + 1.08     0.834238    1.094661   \n",
              "3      -7.16 X + 0.93 X2 + 8.39 X3 + 11.85 X4 + 1.12     0.825722    1.128861   \n",
              "4  -7.16 X + 4.50 X2 + 3.52 X3 + -6.55 X4 + 25.68...     0.799399    1.146546   \n",
              "\n",
              "   Sum of Absolute Weights  \n",
              "0                 4.322954  \n",
              "1                12.817040  \n",
              "2                26.744867  \n",
              "3                29.453660  \n",
              "4                48.614927  "
            ],
            "text/html": [
              "\n",
              "  <div id=\"df-d3f70486-78a1-4172-a9a0-231c167f4499\" class=\"colab-df-container\">\n",
              "    <div>\n",
              "<style scoped>\n",
              "    .dataframe tbody tr th:only-of-type {\n",
              "        vertical-align: middle;\n",
              "    }\n",
              "\n",
              "    .dataframe tbody tr th {\n",
              "        vertical-align: top;\n",
              "    }\n",
              "\n",
              "    .dataframe thead th {\n",
              "        text-align: right;\n",
              "    }\n",
              "</style>\n",
              "<table border=\"1\" class=\"dataframe\">\n",
              "  <thead>\n",
              "    <tr style=\"text-align: right;\">\n",
              "      <th></th>\n",
              "      <th>Model</th>\n",
              "      <th>Train error</th>\n",
              "      <th>Test error</th>\n",
              "      <th>Sum of Absolute Weights</th>\n",
              "    </tr>\n",
              "  </thead>\n",
              "  <tbody>\n",
              "    <tr>\n",
              "      <th>0</th>\n",
              "      <td>-3.24 X + 1.08</td>\n",
              "      <td>0.891873</td>\n",
              "      <td>1.047626</td>\n",
              "      <td>4.322954</td>\n",
              "    </tr>\n",
              "    <tr>\n",
              "      <th>1</th>\n",
              "      <td>-5.90 X + 5.92 X2 + 1.00</td>\n",
              "      <td>0.856157</td>\n",
              "      <td>1.087601</td>\n",
              "      <td>12.817040</td>\n",
              "    </tr>\n",
              "    <tr>\n",
              "      <th>2</th>\n",
              "      <td>-6.22 X + -2.30 X2 + 17.14 X3 + 1.08</td>\n",
              "      <td>0.834238</td>\n",
              "      <td>1.094661</td>\n",
              "      <td>26.744867</td>\n",
              "    </tr>\n",
              "    <tr>\n",
              "      <th>3</th>\n",
              "      <td>-7.16 X + 0.93 X2 + 8.39 X3 + 11.85 X4 + 1.12</td>\n",
              "      <td>0.825722</td>\n",
              "      <td>1.128861</td>\n",
              "      <td>29.453660</td>\n",
              "    </tr>\n",
              "    <tr>\n",
              "      <th>4</th>\n",
              "      <td>-7.16 X + 4.50 X2 + 3.52 X3 + -6.55 X4 + 25.68...</td>\n",
              "      <td>0.799399</td>\n",
              "      <td>1.146546</td>\n",
              "      <td>48.614927</td>\n",
              "    </tr>\n",
              "  </tbody>\n",
              "</table>\n",
              "</div>\n",
              "    <div class=\"colab-df-buttons\">\n",
              "\n",
              "  <div class=\"colab-df-container\">\n",
              "    <button class=\"colab-df-convert\" onclick=\"convertToInteractive('df-d3f70486-78a1-4172-a9a0-231c167f4499')\"\n",
              "            title=\"Convert this dataframe to an interactive table.\"\n",
              "            style=\"display:none;\">\n",
              "\n",
              "  <svg xmlns=\"http://www.w3.org/2000/svg\" height=\"24px\" viewBox=\"0 -960 960 960\">\n",
              "    <path d=\"M120-120v-720h720v720H120Zm60-500h600v-160H180v160Zm220 220h160v-160H400v160Zm0 220h160v-160H400v160ZM180-400h160v-160H180v160Zm440 0h160v-160H620v160ZM180-180h160v-160H180v160Zm440 0h160v-160H620v160Z\"/>\n",
              "  </svg>\n",
              "    </button>\n",
              "\n",
              "  <style>\n",
              "    .colab-df-container {\n",
              "      display:flex;\n",
              "      gap: 12px;\n",
              "    }\n",
              "\n",
              "    .colab-df-convert {\n",
              "      background-color: #E8F0FE;\n",
              "      border: none;\n",
              "      border-radius: 50%;\n",
              "      cursor: pointer;\n",
              "      display: none;\n",
              "      fill: #1967D2;\n",
              "      height: 32px;\n",
              "      padding: 0 0 0 0;\n",
              "      width: 32px;\n",
              "    }\n",
              "\n",
              "    .colab-df-convert:hover {\n",
              "      background-color: #E2EBFA;\n",
              "      box-shadow: 0px 1px 2px rgba(60, 64, 67, 0.3), 0px 1px 3px 1px rgba(60, 64, 67, 0.15);\n",
              "      fill: #174EA6;\n",
              "    }\n",
              "\n",
              "    .colab-df-buttons div {\n",
              "      margin-bottom: 4px;\n",
              "    }\n",
              "\n",
              "    [theme=dark] .colab-df-convert {\n",
              "      background-color: #3B4455;\n",
              "      fill: #D2E3FC;\n",
              "    }\n",
              "\n",
              "    [theme=dark] .colab-df-convert:hover {\n",
              "      background-color: #434B5C;\n",
              "      box-shadow: 0px 1px 3px 1px rgba(0, 0, 0, 0.15);\n",
              "      filter: drop-shadow(0px 1px 2px rgba(0, 0, 0, 0.3));\n",
              "      fill: #FFFFFF;\n",
              "    }\n",
              "  </style>\n",
              "\n",
              "    <script>\n",
              "      const buttonEl =\n",
              "        document.querySelector('#df-d3f70486-78a1-4172-a9a0-231c167f4499 button.colab-df-convert');\n",
              "      buttonEl.style.display =\n",
              "        google.colab.kernel.accessAllowed ? 'block' : 'none';\n",
              "\n",
              "      async function convertToInteractive(key) {\n",
              "        const element = document.querySelector('#df-d3f70486-78a1-4172-a9a0-231c167f4499');\n",
              "        const dataTable =\n",
              "          await google.colab.kernel.invokeFunction('convertToInteractive',\n",
              "                                                    [key], {});\n",
              "        if (!dataTable) return;\n",
              "\n",
              "        const docLinkHtml = 'Like what you see? Visit the ' +\n",
              "          '<a target=\"_blank\" href=https://colab.research.google.com/notebooks/data_table.ipynb>data table notebook</a>'\n",
              "          + ' to learn more about interactive tables.';\n",
              "        element.innerHTML = '';\n",
              "        dataTable['output_type'] = 'display_data';\n",
              "        await google.colab.output.renderOutput(dataTable, element);\n",
              "        const docLink = document.createElement('div');\n",
              "        docLink.innerHTML = docLinkHtml;\n",
              "        element.appendChild(docLink);\n",
              "      }\n",
              "    </script>\n",
              "  </div>\n",
              "\n",
              "\n",
              "<div id=\"df-8fe5b240-22c3-4245-800a-7b593de8e321\">\n",
              "  <button class=\"colab-df-quickchart\" onclick=\"quickchart('df-8fe5b240-22c3-4245-800a-7b593de8e321')\"\n",
              "            title=\"Suggest charts\"\n",
              "            style=\"display:none;\">\n",
              "\n",
              "<svg xmlns=\"http://www.w3.org/2000/svg\" height=\"24px\"viewBox=\"0 0 24 24\"\n",
              "     width=\"24px\">\n",
              "    <g>\n",
              "        <path d=\"M19 3H5c-1.1 0-2 .9-2 2v14c0 1.1.9 2 2 2h14c1.1 0 2-.9 2-2V5c0-1.1-.9-2-2-2zM9 17H7v-7h2v7zm4 0h-2V7h2v10zm4 0h-2v-4h2v4z\"/>\n",
              "    </g>\n",
              "</svg>\n",
              "  </button>\n",
              "\n",
              "<style>\n",
              "  .colab-df-quickchart {\n",
              "      --bg-color: #E8F0FE;\n",
              "      --fill-color: #1967D2;\n",
              "      --hover-bg-color: #E2EBFA;\n",
              "      --hover-fill-color: #174EA6;\n",
              "      --disabled-fill-color: #AAA;\n",
              "      --disabled-bg-color: #DDD;\n",
              "  }\n",
              "\n",
              "  [theme=dark] .colab-df-quickchart {\n",
              "      --bg-color: #3B4455;\n",
              "      --fill-color: #D2E3FC;\n",
              "      --hover-bg-color: #434B5C;\n",
              "      --hover-fill-color: #FFFFFF;\n",
              "      --disabled-bg-color: #3B4455;\n",
              "      --disabled-fill-color: #666;\n",
              "  }\n",
              "\n",
              "  .colab-df-quickchart {\n",
              "    background-color: var(--bg-color);\n",
              "    border: none;\n",
              "    border-radius: 50%;\n",
              "    cursor: pointer;\n",
              "    display: none;\n",
              "    fill: var(--fill-color);\n",
              "    height: 32px;\n",
              "    padding: 0;\n",
              "    width: 32px;\n",
              "  }\n",
              "\n",
              "  .colab-df-quickchart:hover {\n",
              "    background-color: var(--hover-bg-color);\n",
              "    box-shadow: 0 1px 2px rgba(60, 64, 67, 0.3), 0 1px 3px 1px rgba(60, 64, 67, 0.15);\n",
              "    fill: var(--button-hover-fill-color);\n",
              "  }\n",
              "\n",
              "  .colab-df-quickchart-complete:disabled,\n",
              "  .colab-df-quickchart-complete:disabled:hover {\n",
              "    background-color: var(--disabled-bg-color);\n",
              "    fill: var(--disabled-fill-color);\n",
              "    box-shadow: none;\n",
              "  }\n",
              "\n",
              "  .colab-df-spinner {\n",
              "    border: 2px solid var(--fill-color);\n",
              "    border-color: transparent;\n",
              "    border-bottom-color: var(--fill-color);\n",
              "    animation:\n",
              "      spin 1s steps(1) infinite;\n",
              "  }\n",
              "\n",
              "  @keyframes spin {\n",
              "    0% {\n",
              "      border-color: transparent;\n",
              "      border-bottom-color: var(--fill-color);\n",
              "      border-left-color: var(--fill-color);\n",
              "    }\n",
              "    20% {\n",
              "      border-color: transparent;\n",
              "      border-left-color: var(--fill-color);\n",
              "      border-top-color: var(--fill-color);\n",
              "    }\n",
              "    30% {\n",
              "      border-color: transparent;\n",
              "      border-left-color: var(--fill-color);\n",
              "      border-top-color: var(--fill-color);\n",
              "      border-right-color: var(--fill-color);\n",
              "    }\n",
              "    40% {\n",
              "      border-color: transparent;\n",
              "      border-right-color: var(--fill-color);\n",
              "      border-top-color: var(--fill-color);\n",
              "    }\n",
              "    60% {\n",
              "      border-color: transparent;\n",
              "      border-right-color: var(--fill-color);\n",
              "    }\n",
              "    80% {\n",
              "      border-color: transparent;\n",
              "      border-right-color: var(--fill-color);\n",
              "      border-bottom-color: var(--fill-color);\n",
              "    }\n",
              "    90% {\n",
              "      border-color: transparent;\n",
              "      border-bottom-color: var(--fill-color);\n",
              "    }\n",
              "  }\n",
              "</style>\n",
              "\n",
              "  <script>\n",
              "    async function quickchart(key) {\n",
              "      const quickchartButtonEl =\n",
              "        document.querySelector('#' + key + ' button');\n",
              "      quickchartButtonEl.disabled = true;  // To prevent multiple clicks.\n",
              "      quickchartButtonEl.classList.add('colab-df-spinner');\n",
              "      try {\n",
              "        const charts = await google.colab.kernel.invokeFunction(\n",
              "            'suggestCharts', [key], {});\n",
              "      } catch (error) {\n",
              "        console.error('Error during call to suggestCharts:', error);\n",
              "      }\n",
              "      quickchartButtonEl.classList.remove('colab-df-spinner');\n",
              "      quickchartButtonEl.classList.add('colab-df-quickchart-complete');\n",
              "    }\n",
              "    (() => {\n",
              "      let quickchartButtonEl =\n",
              "        document.querySelector('#df-8fe5b240-22c3-4245-800a-7b593de8e321 button');\n",
              "      quickchartButtonEl.style.display =\n",
              "        google.colab.kernel.accessAllowed ? 'block' : 'none';\n",
              "    })();\n",
              "  </script>\n",
              "</div>\n",
              "\n",
              "  <div id=\"id_be43cf20-187f-4eb1-8e16-c5fede502a0b\">\n",
              "    <style>\n",
              "      .colab-df-generate {\n",
              "        background-color: #E8F0FE;\n",
              "        border: none;\n",
              "        border-radius: 50%;\n",
              "        cursor: pointer;\n",
              "        display: none;\n",
              "        fill: #1967D2;\n",
              "        height: 32px;\n",
              "        padding: 0 0 0 0;\n",
              "        width: 32px;\n",
              "      }\n",
              "\n",
              "      .colab-df-generate:hover {\n",
              "        background-color: #E2EBFA;\n",
              "        box-shadow: 0px 1px 2px rgba(60, 64, 67, 0.3), 0px 1px 3px 1px rgba(60, 64, 67, 0.15);\n",
              "        fill: #174EA6;\n",
              "      }\n",
              "\n",
              "      [theme=dark] .colab-df-generate {\n",
              "        background-color: #3B4455;\n",
              "        fill: #D2E3FC;\n",
              "      }\n",
              "\n",
              "      [theme=dark] .colab-df-generate:hover {\n",
              "        background-color: #434B5C;\n",
              "        box-shadow: 0px 1px 3px 1px rgba(0, 0, 0, 0.15);\n",
              "        filter: drop-shadow(0px 1px 2px rgba(0, 0, 0, 0.3));\n",
              "        fill: #FFFFFF;\n",
              "      }\n",
              "    </style>\n",
              "    <button class=\"colab-df-generate\" onclick=\"generateWithVariable('results')\"\n",
              "            title=\"Generate code using this dataframe.\"\n",
              "            style=\"display:none;\">\n",
              "\n",
              "  <svg xmlns=\"http://www.w3.org/2000/svg\" height=\"24px\"viewBox=\"0 0 24 24\"\n",
              "       width=\"24px\">\n",
              "    <path d=\"M7,19H8.4L18.45,9,17,7.55,7,17.6ZM5,21V16.75L18.45,3.32a2,2,0,0,1,2.83,0l1.4,1.43a1.91,1.91,0,0,1,.58,1.4,1.91,1.91,0,0,1-.58,1.4L9.25,21ZM18.45,9,17,7.55Zm-12,3A5.31,5.31,0,0,0,4.9,8.1,5.31,5.31,0,0,0,1,6.5,5.31,5.31,0,0,0,4.9,4.9,5.31,5.31,0,0,0,6.5,1,5.31,5.31,0,0,0,8.1,4.9,5.31,5.31,0,0,0,12,6.5,5.46,5.46,0,0,0,6.5,12Z\"/>\n",
              "  </svg>\n",
              "    </button>\n",
              "    <script>\n",
              "      (() => {\n",
              "      const buttonEl =\n",
              "        document.querySelector('#id_be43cf20-187f-4eb1-8e16-c5fede502a0b button.colab-df-generate');\n",
              "      buttonEl.style.display =\n",
              "        google.colab.kernel.accessAllowed ? 'block' : 'none';\n",
              "\n",
              "      buttonEl.onclick = () => {\n",
              "        google.colab.notebook.generateWithVariable('results');\n",
              "      }\n",
              "      })();\n",
              "    </script>\n",
              "  </div>\n",
              "\n",
              "    </div>\n",
              "  </div>\n"
            ]
          },
          "metadata": {},
          "execution_count": 11
        },
        {
          "output_type": "display_data",
          "data": {
            "text/plain": [
              "<Figure size 640x480 with 1 Axes>"
            ],
            "image/png": "[encoded data removed]"
          },
          "metadata": {}
        }
      ],
      "source": [
        "import pandas as pd\n",
        "import matplotlib.pyplot as plt\n",
        "\n",
        "columns = ['Model', 'Train error', 'Test error', 'Sum of Absolute Weights']\n",
        "model1 = \"%.2f X + %.2f\" % (regr.coef_[0][0], regr.intercept_[0])\n",
        "values1 = [ model1, np.sqrt(mean_squared_error(y_train, y_pred_train)),\n",
        "           np.sqrt(mean_squared_error(y_test, y_pred_test)),\n",
        "           np.absolute(regr.coef_[0]).sum() + np.absolute(regr.intercept_[0])]\n",
        "\n",
        "model2 = \"%.2f X + %.2f X2 + %.2f\" % (regr2.coef_[0][0], regr2.coef_[0][1], regr2.intercept_[0])\n",
        "values2 = [ model2, np.sqrt(mean_squared_error(y_train, y_pred_train2)),\n",
        "           np.sqrt(mean_squared_error(y_test, y_pred_test2)),\n",
        "           np.absolute(regr2.coef_[0]).sum() + np.absolute(regr2.intercept_[0])]\n",
        "\n",
        "model3 = \"%.2f X + %.2f X2 + %.2f X3 + %.2f\" % (regr3.coef_[0][0], regr3.coef_[0][1],\n",
        "                                                regr3.coef_[0][2], regr3.intercept_[0])\n",
        "values3 = [ model3, np.sqrt(mean_squared_error(y_train, y_pred_train3)),\n",
        "           np.sqrt(mean_squared_error(y_test, y_pred_test3)),\n",
        "           np.absolute(regr3.coef_[0]).sum() + np.absolute(regr3.intercept_[0])]\n",
        "\n",
        "model4 = \"%.2f X + %.2f X2 + %.2f X3 + %.2f X4 + %.2f\" % (regr4.coef_[0][0], regr4.coef_[0][1],\n",
        "                                        regr4.coef_[0][2], regr4.coef_[0][3], regr4.intercept_[0])\n",
        "values4 = [ model4, np.sqrt(mean_squared_error(y_train, y_pred_train4)),\n",
        "           np.sqrt(mean_squared_error(y_test, y_pred_test4)),\n",
        "           np.absolute(regr4.coef_[0]).sum() + np.absolute(regr4.intercept_[0])]\n",
        "\n",
        "model5 = \"%.2f X + %.2f X2 + %.2f X3 + %.2f X4 + %.2f X5 + %.2f\" % (regr5.coef_[0][0],\n",
        "                                        regr5.coef_[0][1], regr5.coef_[0][2],\n",
        "                                        regr5.coef_[0][3], regr5.coef_[0][4], regr5.intercept_[0])\n",
        "values5 = [ model5, np.sqrt(mean_squared_error(y_train, y_pred_train5)),\n",
        "           np.sqrt(mean_squared_error(y_test, y_pred_test5)),\n",
        "           np.absolute(regr5.coef_[0]).sum() + np.absolute(regr5.intercept_[0])]\n",
        "\n",
        "results = pd.DataFrame([values1, values2, values3, values4, values5], columns=columns)\n",
        "\n",
        "plt.plot(results['Sum of Absolute Weights'], results['Train error'], 'ro-')\n",
        "plt.plot(results['Sum of Absolute Weights'], results['Test error'], 'k*--')\n",
        "plt.legend(['Train error', 'Test error'])\n",
        "plt.xlabel('Sum of Absolute Weights')\n",
        "plt.ylabel('Error rate')\n",
        "\n",
        "results"
      ]
    },
    {
      "cell_type": "markdown",
      "metadata": {
        "hidden": true,
        "id": "W1IOmPJhU_Sq"
      },
      "source": [
        "The results above show that the first model, which fits y against X only, has the largest training error, but smallest test error, whereas the fifth model, which fits y against X and other correlated attributes, has the smallest training error but largest test error. This is due to a phenomenon known as model overfitting, in which the low training error of the model does not reflect how well the model will perform on previously unseen test instances. From the plot shown above, observe that the disparity between the training and test errors becomes wider as the sum of absolute weights of the model (which represents the model complexity) increases. Thus, one should control the complexity of the regression model to avoid the model overfitting problem.  "
      ]
    },
    {
      "cell_type": "markdown",
      "metadata": {
        "heading_collapsed": true,
        "scrolled": true,
        "id": "GLNwKei4U_Sq"
      },
      "source": [
        "## Ridge Regression\n",
        "\n",
        "Ridge regression is a variant of MLR designed to fit a linear model to the dataset by minimizing the following regularized least-square loss function:\n",
        "$$L_{\\textrm{ridge}}(y,f(X,w)) = \\sum_{i=1}^N \\|y_i - X_iw - w_0\\|^2 + \\alpha \\bigg[\\|w\\|^2 + w_0^2 \\bigg],$$\n",
        "where $\\alpha$ is the hyperparameter for ridge regression. Note that the ridge regression model reduces to MLR when $\\alpha = 0$. By increasing the value of $\\alpha$, we can control the complexity of the model as will be shown in the example below."
      ]
    },
    {
      "cell_type": "markdown",
      "metadata": {
        "hidden": true,
        "id": "rOnTCswLU_Sr"
      },
      "source": [
        "In the example shown below, we fit a ridge regression model to the previously created training set with correlated attributes. We compare the results of the ridge regression model against those obtained using MLR."
      ]
    },
    {
      "cell_type": "code",
      "execution_count": 12,
      "metadata": {
        "hidden": true,
        "colab": {
          "base_uri": "https://localhost:8080/",
          "height": 238
        },
        "id": "MWkLHTPjU_Sr",
        "outputId": "3a4a98d4-cc9a-4537-cbca-394a57cca951"
      },
      "outputs": [
        {
          "output_type": "execute_result",
          "data": {
            "text/plain": [
              "                                                   Model  Train error  \\\n",
              "0                                         -3.24 X + 1.08     0.891873   \n",
              "1                               -5.90 X + 5.92 X2 + 1.00     0.856157   \n",
              "2                   -6.22 X + -2.30 X2 + 17.14 X3 + 1.08     0.834238   \n",
              "3          -7.16 X + 0.93 X2 + 8.39 X3 + 11.85 X4 + 1.12     0.825722   \n",
              "4      -7.16 X + 4.50 X2 + 3.52 X3 + -6.55 X4 + 25.68...     0.799399   \n",
              "Ridge  -2.24 X + -0.43 X2 + -0.14 X3 + -0.10 X4 + 0.0...     0.917456   \n",
              "\n",
              "       Test error  Sum of Absolute Weights  \n",
              "0        1.047626                 4.322954  \n",
              "1        1.087601                12.817040  \n",
              "2        1.094661                26.744867  \n",
              "3        1.128861                29.453660  \n",
              "4        1.146546                48.614927  \n",
              "Ridge    1.052388                 3.765759  "
            ],
            "text/html": [
              "\n",
              "  <div id=\"df-1dea0ad9-e21d-4102-b588-7257354faa94\" class=\"colab-df-container\">\n",
              "    <div>\n",
              "<style scoped>\n",
              "    .dataframe tbody tr th:only-of-type {\n",
              "        vertical-align: middle;\n",
              "    }\n",
              "\n",
              "    .dataframe tbody tr th {\n",
              "        vertical-align: top;\n",
              "    }\n",
              "\n",
              "    .dataframe thead th {\n",
              "        text-align: right;\n",
              "    }\n",
              "</style>\n",
              "<table border=\"1\" class=\"dataframe\">\n",
              "  <thead>\n",
              "    <tr style=\"text-align: right;\">\n",
              "      <th></th>\n",
              "      <th>Model</th>\n",
              "      <th>Train error</th>\n",
              "      <th>Test error</th>\n",
              "      <th>Sum of Absolute Weights</th>\n",
              "    </tr>\n",
              "  </thead>\n",
              "  <tbody>\n",
              "    <tr>\n",
              "      <th>0</th>\n",
              "      <td>-3.24 X + 1.08</td>\n",
              "      <td>0.891873</td>\n",
              "      <td>1.047626</td>\n",
              "      <td>4.322954</td>\n",
              "    </tr>\n",
              "    <tr>\n",
              "      <th>1</th>\n",
              "      <td>-5.90 X + 5.92 X2 + 1.00</td>\n",
              "      <td>0.856157</td>\n",
              "      <td>1.087601</td>\n",
              "      <td>12.817040</td>\n",
              "    </tr>\n",
              "    <tr>\n",
              "      <th>2</th>\n",
              "      <td>-6.22 X + -2.30 X2 + 17.14 X3 + 1.08</td>\n",
              "      <td>0.834238</td>\n",
              "      <td>1.094661</td>\n",
              "      <td>26.744867</td>\n",
              "    </tr>\n",
              "    <tr>\n",
              "      <th>3</th>\n",
              "      <td>-7.16 X + 0.93 X2 + 8.39 X3 + 11.85 X4 + 1.12</td>\n",
              "      <td>0.825722</td>\n",
              "      <td>1.128861</td>\n",
              "      <td>29.453660</td>\n",
              "    </tr>\n",
              "    <tr>\n",
              "      <th>4</th>\n",
              "      <td>-7.16 X + 4.50 X2 + 3.52 X3 + -6.55 X4 + 25.68...</td>\n",
              "      <td>0.799399</td>\n",
              "      <td>1.146546</td>\n",
              "      <td>48.614927</td>\n",
              "    </tr>\n",
              "    <tr>\n",
              "      <th>Ridge</th>\n",
              "      <td>-2.24 X + -0.43 X2 + -0.14 X3 + -0.10 X4 + 0.0...</td>\n",
              "      <td>0.917456</td>\n",
              "      <td>1.052388</td>\n",
              "      <td>3.765759</td>\n",
              "    </tr>\n",
              "  </tbody>\n",
              "</table>\n",
              "</div>\n",
              "    <div class=\"colab-df-buttons\">\n",
              "\n",
              "  <div class=\"colab-df-container\">\n",
              "    <button class=\"colab-df-convert\" onclick=\"convertToInteractive('df-1dea0ad9-e21d-4102-b588-7257354faa94')\"\n",
              "            title=\"Convert this dataframe to an interactive table.\"\n",
              "            style=\"display:none;\">\n",
              "\n",
              "  <svg xmlns=\"http://www.w3.org/2000/svg\" height=\"24px\" viewBox=\"0 -960 960 960\">\n",
              "    <path d=\"M120-120v-720h720v720H120Zm60-500h600v-160H180v160Zm220 220h160v-160H400v160Zm0 220h160v-160H400v160ZM180-400h160v-160H180v160Zm440 0h160v-160H620v160ZM180-180h160v-160H180v160Zm440 0h160v-160H620v160Z\"/>\n",
              "  </svg>\n",
              "    </button>\n",
              "\n",
              "  <style>\n",
              "    .colab-df-container {\n",
              "      display:flex;\n",
              "      gap: 12px;\n",
              "    }\n",
              "\n",
              "    .colab-df-convert {\n",
              "      background-color: #E8F0FE;\n",
              "      border: none;\n",
              "      border-radius: 50%;\n",
              "      cursor: pointer;\n",
              "      display: none;\n",
              "      fill: #1967D2;\n",
              "      height: 32px;\n",
              "      padding: 0 0 0 0;\n",
              "      width: 32px;\n",
              "    }\n",
              "\n",
              "    .colab-df-convert:hover {\n",
              "      background-color: #E2EBFA;\n",
              "      box-shadow: 0px 1px 2px rgba(60, 64, 67, 0.3), 0px 1px 3px 1px rgba(60, 64, 67, 0.15);\n",
              "      fill: #174EA6;\n",
              "    }\n",
              "\n",
              "    .colab-df-buttons div {\n",
              "      margin-bottom: 4px;\n",
              "    }\n",
              "\n",
              "    [theme=dark] .colab-df-convert {\n",
              "      background-color: #3B4455;\n",
              "      fill: #D2E3FC;\n",
              "    }\n",
              "\n",
              "    [theme=dark] .colab-df-convert:hover {\n",
              "      background-color: #434B5C;\n",
              "      box-shadow: 0px 1px 3px 1px rgba(0, 0, 0, 0.15);\n",
              "      filter: drop-shadow(0px 1px 2px rgba(0, 0, 0, 0.3));\n",
              "      fill: #FFFFFF;\n",
              "    }\n",
              "  </style>\n",
              "\n",
              "    <script>\n",
              "      const buttonEl =\n",
              "        document.querySelector('#df-1dea0ad9-e21d-4102-b588-7257354faa94 button.colab-df-convert');\n",
              "      buttonEl.style.display =\n",
              "        google.colab.kernel.accessAllowed ? 'block' : 'none';\n",
              "\n",
              "      async function convertToInteractive(key) {\n",
              "        const element = document.querySelector('#df-1dea0ad9-e21d-4102-b588-7257354faa94');\n",
              "        const dataTable =\n",
              "          await google.colab.kernel.invokeFunction('convertToInteractive',\n",
              "                                                    [key], {});\n",
              "        if (!dataTable) return;\n",
              "\n",
              "        const docLinkHtml = 'Like what you see? Visit the ' +\n",
              "          '<a target=\"_blank\" href=https://colab.research.google.com/notebooks/data_table.ipynb>data table notebook</a>'\n",
              "          + ' to learn more about interactive tables.';\n",
              "        element.innerHTML = '';\n",
              "        dataTable['output_type'] = 'display_data';\n",
              "        await google.colab.output.renderOutput(dataTable, element);\n",
              "        const docLink = document.createElement('div');\n",
              "        docLink.innerHTML = docLinkHtml;\n",
              "        element.appendChild(docLink);\n",
              "      }\n",
              "    </script>\n",
              "  </div>\n",
              "\n",
              "\n",
              "<div id=\"df-418912a6-0bba-4741-b346-fd9a8bf54f5c\">\n",
              "  <button class=\"colab-df-quickchart\" onclick=\"quickchart('df-418912a6-0bba-4741-b346-fd9a8bf54f5c')\"\n",
              "            title=\"Suggest charts\"\n",
              "            style=\"display:none;\">\n",
              "\n",
              "<svg xmlns=\"http://www.w3.org/2000/svg\" height=\"24px\"viewBox=\"0 0 24 24\"\n",
              "     width=\"24px\">\n",
              "    <g>\n",
              "        <path d=\"M19 3H5c-1.1 0-2 .9-2 2v14c0 1.1.9 2 2 2h14c1.1 0 2-.9 2-2V5c0-1.1-.9-2-2-2zM9 17H7v-7h2v7zm4 0h-2V7h2v10zm4 0h-2v-4h2v4z\"/>\n",
              "    </g>\n",
              "</svg>\n",
              "  </button>\n",
              "\n",
              "<style>\n",
              "  .colab-df-quickchart {\n",
              "      --bg-color: #E8F0FE;\n",
              "      --fill-color: #1967D2;\n",
              "      --hover-bg-color: #E2EBFA;\n",
              "      --hover-fill-color: #174EA6;\n",
              "      --disabled-fill-color: #AAA;\n",
              "      --disabled-bg-color: #DDD;\n",
              "  }\n",
              "\n",
              "  [theme=dark] .colab-df-quickchart {\n",
              "      --bg-color: #3B4455;\n",
              "      --fill-color: #D2E3FC;\n",
              "      --hover-bg-color: #434B5C;\n",
              "      --hover-fill-color: #FFFFFF;\n",
              "      --disabled-bg-color: #3B4455;\n",
              "      --disabled-fill-color: #666;\n",
              "  }\n",
              "\n",
              "  .colab-df-quickchart {\n",
              "    background-color: var(--bg-color);\n",
              "    border: none;\n",
              "    border-radius: 50%;\n",
              "    cursor: pointer;\n",
              "    display: none;\n",
              "    fill: var(--fill-color);\n",
              "    height: 32px;\n",
              "    padding: 0;\n",
              "    width: 32px;\n",
              "  }\n",
              "\n",
              "  .colab-df-quickchart:hover {\n",
              "    background-color: var(--hover-bg-color);\n",
              "    box-shadow: 0 1px 2px rgba(60, 64, 67, 0.3), 0 1px 3px 1px rgba(60, 64, 67, 0.15);\n",
              "    fill: var(--button-hover-fill-color);\n",
              "  }\n",
              "\n",
              "  .colab-df-quickchart-complete:disabled,\n",
              "  .colab-df-quickchart-complete:disabled:hover {\n",
              "    background-color: var(--disabled-bg-color);\n",
              "    fill: var(--disabled-fill-color);\n",
              "    box-shadow: none;\n",
              "  }\n",
              "\n",
              "  .colab-df-spinner {\n",
              "    border: 2px solid var(--fill-color);\n",
              "    border-color: transparent;\n",
              "    border-bottom-color: var(--fill-color);\n",
              "    animation:\n",
              "      spin 1s steps(1) infinite;\n",
              "  }\n",
              "\n",
              "  @keyframes spin {\n",
              "    0% {\n",
              "      border-color: transparent;\n",
              "      border-bottom-color: var(--fill-color);\n",
              "      border-left-color: var(--fill-color);\n",
              "    }\n",
              "    20% {\n",
              "      border-color: transparent;\n",
              "      border-left-color: var(--fill-color);\n",
              "      border-top-color: var(--fill-color);\n",
              "    }\n",
              "    30% {\n",
              "      border-color: transparent;\n",
              "      border-left-color: var(--fill-color);\n",
              "      border-top-color: var(--fill-color);\n",
              "      border-right-color: var(--fill-color);\n",
              "    }\n",
              "    40% {\n",
              "      border-color: transparent;\n",
              "      border-right-color: var(--fill-color);\n",
              "      border-top-color: var(--fill-color);\n",
              "    }\n",
              "    60% {\n",
              "      border-color: transparent;\n",
              "      border-right-color: var(--fill-color);\n",
              "    }\n",
              "    80% {\n",
              "      border-color: transparent;\n",
              "      border-right-color: var(--fill-color);\n",
              "      border-bottom-color: var(--fill-color);\n",
              "    }\n",
              "    90% {\n",
              "      border-color: transparent;\n",
              "      border-bottom-color: var(--fill-color);\n",
              "    }\n",
              "  }\n",
              "</style>\n",
              "\n",
              "  <script>\n",
              "    async function quickchart(key) {\n",
              "      const quickchartButtonEl =\n",
              "        document.querySelector('#' + key + ' button');\n",
              "      quickchartButtonEl.disabled = true;  // To prevent multiple clicks.\n",
              "      quickchartButtonEl.classList.add('colab-df-spinner');\n",
              "      try {\n",
              "        const charts = await google.colab.kernel.invokeFunction(\n",
              "            'suggestCharts', [key], {});\n",
              "      } catch (error) {\n",
              "        console.error('Error during call to suggestCharts:', error);\n",
              "      }\n",
              "      quickchartButtonEl.classList.remove('colab-df-spinner');\n",
              "      quickchartButtonEl.classList.add('colab-df-quickchart-complete');\n",
              "    }\n",
              "    (() => {\n",
              "      let quickchartButtonEl =\n",
              "        document.querySelector('#df-418912a6-0bba-4741-b346-fd9a8bf54f5c button');\n",
              "      quickchartButtonEl.style.display =\n",
              "        google.colab.kernel.accessAllowed ? 'block' : 'none';\n",
              "    })();\n",
              "  </script>\n",
              "</div>\n",
              "\n",
              "    </div>\n",
              "  </div>\n"
            ]
          },
          "metadata": {},
          "execution_count": 12
        }
      ],
      "source": [
        "from sklearn import linear_model\n",
        "\n",
        "ridge = linear_model.Ridge(alpha=0.4)\n",
        "ridge.fit(X_train5, y_train)\n",
        "y_pred_train_ridge = ridge.predict(X_train5)\n",
        "y_pred_test_ridge = ridge.predict(X_test5)\n",
        "\n",
        "model6 = \"%.2f X + %.2f X2 + %.2f X3 + %.2f X4 + %.2f X5 + %.2f\" % (ridge.coef_[0][0],\n",
        "                                        ridge.coef_[0][1], ridge.coef_[0][2],\n",
        "                                        ridge.coef_[0][3], ridge.coef_[0][4], ridge.intercept_[0])\n",
        "values6 = [ model6, np.sqrt(mean_squared_error(y_train, y_pred_train_ridge)),\n",
        "           np.sqrt(mean_squared_error(y_test, y_pred_test_ridge)),\n",
        "           np.absolute(ridge.coef_[0]).sum() + np.absolute(ridge.intercept_[0])]\n",
        "\n",
        "ridge_results = pd.DataFrame([values6], columns=columns, index=['Ridge'])\n",
        "pd.concat([results, ridge_results])"
      ]
    },
    {
      "cell_type": "markdown",
      "metadata": {
        "hidden": true,
        "id": "u3JuUkH8U_Sr"
      },
      "source": [
        "By setting an appropriate value for the hyperparameter, $\\alpha$, we can control the sum of absolute weights, thus producing a test error that is quite comparable to that of MLR without the correlated attributes."
      ]
    },
    {
      "cell_type": "markdown",
      "metadata": {
        "heading_collapsed": true,
        "id": "eSFRpGNwU_Sr"
      },
      "source": [
        "## Lasso Regression\n",
        "\n",
        "One of the limitations of ridge regression is that, although it was able to reduce the regression coefficients associated with the correlated attributes and reduce the effect of model overfitting, the resulting model is still not sparse. Another variation of MLR, called lasso regression, is designed to produce sparser models by imposing an $\\ell_1$ regularization on the regression coefficients as shown below:\n",
        "$$L_{\\textrm{lasso}}(y,f(X,w)) = \\sum_{i=1}^N \\|y_i - X_iw - w_0\\|^2 + \\alpha \\bigg[ \\|w\\|_1 + |w_0|\\bigg]$$\n",
        "\n",
        "The example code below shows the results of applying lasso regression to the previously used correlated dataset."
      ]
    },
    {
      "cell_type": "code",
      "execution_count": 13,
      "metadata": {
        "hidden": true,
        "colab": {
          "base_uri": "https://localhost:8080/",
          "height": 269
        },
        "id": "iITY83AOU_Sr",
        "outputId": "3fac12fe-097b-4cf9-ae9e-e55b7396484a"
      },
      "outputs": [
        {
          "output_type": "execute_result",
          "data": {
            "text/plain": [
              "                                                   Model  Train error  \\\n",
              "0                                         -3.24 X + 1.08     0.891873   \n",
              "1                               -5.90 X + 5.92 X2 + 1.00     0.856157   \n",
              "2                   -6.22 X + -2.30 X2 + 17.14 X3 + 1.08     0.834238   \n",
              "3          -7.16 X + 0.93 X2 + 8.39 X3 + 11.85 X4 + 1.12     0.825722   \n",
              "4      -7.16 X + 4.50 X2 + 3.52 X3 + -6.55 X4 + 25.68...     0.799399   \n",
              "Ridge  -2.24 X + -0.43 X2 + -0.14 X3 + -0.10 X4 + 0.0...     0.917456   \n",
              "Lasso  -2.90 X + 0.00 X2 + 0.00 X3 + 0.00 X4 + 0.00 X...     0.895692   \n",
              "\n",
              "       Test error  Sum of Absolute Weights  \n",
              "0        1.047626                 4.322954  \n",
              "1        1.087601                12.817040  \n",
              "2        1.094661                26.744867  \n",
              "3        1.128861                29.453660  \n",
              "4        1.146546                48.614927  \n",
              "Ridge    1.052388                 3.765759  \n",
              "Lasso    1.043334                 3.856242  "
            ],
            "text/html": [
              "\n",
              "  <div id=\"df-9d0183b6-10e1-4d44-869c-748c20632e5f\" class=\"colab-df-container\">\n",
              "    <div>\n",
              "<style scoped>\n",
              "    .dataframe tbody tr th:only-of-type {\n",
              "        vertical-align: middle;\n",
              "    }\n",
              "\n",
              "    .dataframe tbody tr th {\n",
              "        vertical-align: top;\n",
              "    }\n",
              "\n",
              "    .dataframe thead th {\n",
              "        text-align: right;\n",
              "    }\n",
              "</style>\n",
              "<table border=\"1\" class=\"dataframe\">\n",
              "  <thead>\n",
              "    <tr style=\"text-align: right;\">\n",
              "      <th></th>\n",
              "      <th>Model</th>\n",
              "      <th>Train error</th>\n",
              "      <th>Test error</th>\n",
              "      <th>Sum of Absolute Weights</th>\n",
              "    </tr>\n",
              "  </thead>\n",
              "  <tbody>\n",
              "    <tr>\n",
              "      <th>0</th>\n",
              "      <td>-3.24 X + 1.08</td>\n",
              "      <td>0.891873</td>\n",
              "      <td>1.047626</td>\n",
              "      <td>4.322954</td>\n",
              "    </tr>\n",
              "    <tr>\n",
              "      <th>1</th>\n",
              "      <td>-5.90 X + 5.92 X2 + 1.00</td>\n",
              "      <td>0.856157</td>\n",
              "      <td>1.087601</td>\n",
              "      <td>12.817040</td>\n",
              "    </tr>\n",
              "    <tr>\n",
              "      <th>2</th>\n",
              "      <td>-6.22 X + -2.30 X2 + 17.14 X3 + 1.08</td>\n",
              "      <td>0.834238</td>\n",
              "      <td>1.094661</td>\n",
              "      <td>26.744867</td>\n",
              "    </tr>\n",
              "    <tr>\n",
              "      <th>3</th>\n",
              "      <td>-7.16 X + 0.93 X2 + 8.39 X3 + 11.85 X4 + 1.12</td>\n",
              "      <td>0.825722</td>\n",
              "      <td>1.128861</td>\n",
              "      <td>29.453660</td>\n",
              "    </tr>\n",
              "    <tr>\n",
              "      <th>4</th>\n",
              "      <td>-7.16 X + 4.50 X2 + 3.52 X3 + -6.55 X4 + 25.68...</td>\n",
              "      <td>0.799399</td>\n",
              "      <td>1.146546</td>\n",
              "      <td>48.614927</td>\n",
              "    </tr>\n",
              "    <tr>\n",
              "      <th>Ridge</th>\n",
              "      <td>-2.24 X + -0.43 X2 + -0.14 X3 + -0.10 X4 + 0.0...</td>\n",
              "      <td>0.917456</td>\n",
              "      <td>1.052388</td>\n",
              "      <td>3.765759</td>\n",
              "    </tr>\n",
              "    <tr>\n",
              "      <th>Lasso</th>\n",
              "      <td>-2.90 X + 0.00 X2 + 0.00 X3 + 0.00 X4 + 0.00 X...</td>\n",
              "      <td>0.895692</td>\n",
              "      <td>1.043334</td>\n",
              "      <td>3.856242</td>\n",
              "    </tr>\n",
              "  </tbody>\n",
              "</table>\n",
              "</div>\n",
              "    <div class=\"colab-df-buttons\">\n",
              "\n",
              "  <div class=\"colab-df-container\">\n",
              "    <button class=\"colab-df-convert\" onclick=\"convertToInteractive('df-9d0183b6-10e1-4d44-869c-748c20632e5f')\"\n",
              "            title=\"Convert this dataframe to an interactive table.\"\n",
              "            style=\"display:none;\">\n",
              "\n",
              "  <svg xmlns=\"http://www.w3.org/2000/svg\" height=\"24px\" viewBox=\"0 -960 960 960\">\n",
              "    <path d=\"M120-120v-720h720v720H120Zm60-500h600v-160H180v160Zm220 220h160v-160H400v160Zm0 220h160v-160H400v160ZM180-400h160v-160H180v160Zm440 0h160v-160H620v160ZM180-180h160v-160H180v160Zm440 0h160v-160H620v160Z\"/>\n",
              "  </svg>\n",
              "    </button>\n",
              "\n",
              "  <style>\n",
              "    .colab-df-container {\n",
              "      display:flex;\n",
              "      gap: 12px;\n",
              "    }\n",
              "\n",
              "    .colab-df-convert {\n",
              "      background-color: #E8F0FE;\n",
              "      border: none;\n",
              "      border-radius: 50%;\n",
              "      cursor: pointer;\n",
              "      display: none;\n",
              "      fill: #1967D2;\n",
              "      height: 32px;\n",
              "      padding: 0 0 0 0;\n",
              "      width: 32px;\n",
              "    }\n",
              "\n",
              "    .colab-df-convert:hover {\n",
              "      background-color: #E2EBFA;\n",
              "      box-shadow: 0px 1px 2px rgba(60, 64, 67, 0.3), 0px 1px 3px 1px rgba(60, 64, 67, 0.15);\n",
              "      fill: #174EA6;\n",
              "    }\n",
              "\n",
              "    .colab-df-buttons div {\n",
              "      margin-bottom: 4px;\n",
              "    }\n",
              "\n",
              "    [theme=dark] .colab-df-convert {\n",
              "      background-color: #3B4455;\n",
              "      fill: #D2E3FC;\n",
              "    }\n",
              "\n",
              "    [theme=dark] .colab-df-convert:hover {\n",
              "      background-color: #434B5C;\n",
              "      box-shadow: 0px 1px 3px 1px rgba(0, 0, 0, 0.15);\n",
              "      filter: drop-shadow(0px 1px 2px rgba(0, 0, 0, 0.3));\n",
              "      fill: #FFFFFF;\n",
              "    }\n",
              "  </style>\n",
              "\n",
              "    <script>\n",
              "      const buttonEl =\n",
              "        document.querySelector('#df-9d0183b6-10e1-4d44-869c-748c20632e5f button.colab-df-convert');\n",
              "      buttonEl.style.display =\n",
              "        google.colab.kernel.accessAllowed ? 'block' : 'none';\n",
              "\n",
              "      async function convertToInteractive(key) {\n",
              "        const element = document.querySelector('#df-9d0183b6-10e1-4d44-869c-748c20632e5f');\n",
              "        const dataTable =\n",
              "          await google.colab.kernel.invokeFunction('convertToInteractive',\n",
              "                                                    [key], {});\n",
              "        if (!dataTable) return;\n",
              "\n",
              "        const docLinkHtml = 'Like what you see? Visit the ' +\n",
              "          '<a target=\"_blank\" href=https://colab.research.google.com/notebooks/data_table.ipynb>data table notebook</a>'\n",
              "          + ' to learn more about interactive tables.';\n",
              "        element.innerHTML = '';\n",
              "        dataTable['output_type'] = 'display_data';\n",
              "        await google.colab.output.renderOutput(dataTable, element);\n",
              "        const docLink = document.createElement('div');\n",
              "        docLink.innerHTML = docLinkHtml;\n",
              "        element.appendChild(docLink);\n",
              "      }\n",
              "    </script>\n",
              "  </div>\n",
              "\n",
              "\n",
              "<div id=\"df-ef0e96d5-295c-425a-81d3-bc66020f6cd0\">\n",
              "  <button class=\"colab-df-quickchart\" onclick=\"quickchart('df-ef0e96d5-295c-425a-81d3-bc66020f6cd0')\"\n",
              "            title=\"Suggest charts\"\n",
              "            style=\"display:none;\">\n",
              "\n",
              "<svg xmlns=\"http://www.w3.org/2000/svg\" height=\"24px\"viewBox=\"0 0 24 24\"\n",
              "     width=\"24px\">\n",
              "    <g>\n",
              "        <path d=\"M19 3H5c-1.1 0-2 .9-2 2v14c0 1.1.9 2 2 2h14c1.1 0 2-.9 2-2V5c0-1.1-.9-2-2-2zM9 17H7v-7h2v7zm4 0h-2V7h2v10zm4 0h-2v-4h2v4z\"/>\n",
              "    </g>\n",
              "</svg>\n",
              "  </button>\n",
              "\n",
              "<style>\n",
              "  .colab-df-quickchart {\n",
              "      --bg-color: #E8F0FE;\n",
              "      --fill-color: #1967D2;\n",
              "      --hover-bg-color: #E2EBFA;\n",
              "      --hover-fill-color: #174EA6;\n",
              "      --disabled-fill-color: #AAA;\n",
              "      --disabled-bg-color: #DDD;\n",
              "  }\n",
              "\n",
              "  [theme=dark] .colab-df-quickchart {\n",
              "      --bg-color: #3B4455;\n",
              "      --fill-color: #D2E3FC;\n",
              "      --hover-bg-color: #434B5C;\n",
              "      --hover-fill-color: #FFFFFF;\n",
              "      --disabled-bg-color: #3B4455;\n",
              "      --disabled-fill-color: #666;\n",
              "  }\n",
              "\n",
              "  .colab-df-quickchart {\n",
              "    background-color: var(--bg-color);\n",
              "    border: none;\n",
              "    border-radius: 50%;\n",
              "    cursor: pointer;\n",
              "    display: none;\n",
              "    fill: var(--fill-color);\n",
              "    height: 32px;\n",
              "    padding: 0;\n",
              "    width: 32px;\n",
              "  }\n",
              "\n",
              "  .colab-df-quickchart:hover {\n",
              "    background-color: var(--hover-bg-color);\n",
              "    box-shadow: 0 1px 2px rgba(60, 64, 67, 0.3), 0 1px 3px 1px rgba(60, 64, 67, 0.15);\n",
              "    fill: var(--button-hover-fill-color);\n",
              "  }\n",
              "\n",
              "  .colab-df-quickchart-complete:disabled,\n",
              "  .colab-df-quickchart-complete:disabled:hover {\n",
              "    background-color: var(--disabled-bg-color);\n",
              "    fill: var(--disabled-fill-color);\n",
              "    box-shadow: none;\n",
              "  }\n",
              "\n",
              "  .colab-df-spinner {\n",
              "    border: 2px solid var(--fill-color);\n",
              "    border-color: transparent;\n",
              "    border-bottom-color: var(--fill-color);\n",
              "    animation:\n",
              "      spin 1s steps(1) infinite;\n",
              "  }\n",
              "\n",
              "  @keyframes spin {\n",
              "    0% {\n",
              "      border-color: transparent;\n",
              "      border-bottom-color: var(--fill-color);\n",
              "      border-left-color: var(--fill-color);\n",
              "    }\n",
              "    20% {\n",
              "      border-color: transparent;\n",
              "      border-left-color: var(--fill-color);\n",
              "      border-top-color: var(--fill-color);\n",
              "    }\n",
              "    30% {\n",
              "      border-color: transparent;\n",
              "      border-left-color: var(--fill-color);\n",
              "      border-top-color: var(--fill-color);\n",
              "      border-right-color: var(--fill-color);\n",
              "    }\n",
              "    40% {\n",
              "      border-color: transparent;\n",
              "      border-right-color: var(--fill-color);\n",
              "      border-top-color: var(--fill-color);\n",
              "    }\n",
              "    60% {\n",
              "      border-color: transparent;\n",
              "      border-right-color: var(--fill-color);\n",
              "    }\n",
              "    80% {\n",
              "      border-color: transparent;\n",
              "      border-right-color: var(--fill-color);\n",
              "      border-bottom-color: var(--fill-color);\n",
              "    }\n",
              "    90% {\n",
              "      border-color: transparent;\n",
              "      border-bottom-color: var(--fill-color);\n",
              "    }\n",
              "  }\n",
              "</style>\n",
              "\n",
              "  <script>\n",
              "    async function quickchart(key) {\n",
              "      const quickchartButtonEl =\n",
              "        document.querySelector('#' + key + ' button');\n",
              "      quickchartButtonEl.disabled = true;  // To prevent multiple clicks.\n",
              "      quickchartButtonEl.classList.add('colab-df-spinner');\n",
              "      try {\n",
              "        const charts = await google.colab.kernel.invokeFunction(\n",
              "            'suggestCharts', [key], {});\n",
              "      } catch (error) {\n",
              "        console.error('Error during call to suggestCharts:', error);\n",
              "      }\n",
              "      quickchartButtonEl.classList.remove('colab-df-spinner');\n",
              "      quickchartButtonEl.classList.add('colab-df-quickchart-complete');\n",
              "    }\n",
              "    (() => {\n",
              "      let quickchartButtonEl =\n",
              "        document.querySelector('#df-ef0e96d5-295c-425a-81d3-bc66020f6cd0 button');\n",
              "      quickchartButtonEl.style.display =\n",
              "        google.colab.kernel.accessAllowed ? 'block' : 'none';\n",
              "    })();\n",
              "  </script>\n",
              "</div>\n",
              "\n",
              "    </div>\n",
              "  </div>\n"
            ]
          },
          "metadata": {},
          "execution_count": 13
        }
      ],
      "source": [
        "from sklearn import linear_model\n",
        "\n",
        "lasso = linear_model.Lasso(alpha=0.02)\n",
        "lasso.fit(X_train5, y_train)\n",
        "y_pred_train_lasso = lasso.predict(X_train5)\n",
        "y_pred_test_lasso = lasso.predict(X_test5)\n",
        "\n",
        "model7 = \"%.2f X + %.2f X2 + %.2f X3 + %.2f X4 + %.2f X5 + %.2f\" % (lasso.coef_[0],\n",
        "                                        lasso.coef_[1], lasso.coef_[2],\n",
        "                                        lasso.coef_[3], lasso.coef_[4], lasso.intercept_[0])\n",
        "values7 = [ model7, np.sqrt(mean_squared_error(y_train, y_pred_train_lasso)),\n",
        "           np.sqrt(mean_squared_error(y_test, y_pred_test_lasso)),\n",
        "           np.absolute(lasso.coef_[0]).sum() + np.absolute(lasso.intercept_[0])]\n",
        "\n",
        "lasso_results = pd.DataFrame([values7], columns=columns, index=['Lasso'])\n",
        "pd.concat([results, ridge_results, lasso_results])"
      ]
    },
    {
      "cell_type": "markdown",
      "metadata": {
        "hidden": true,
        "id": "OewcSVb2U_Sr"
      },
      "source": [
        "Observe that the lasso regression model sets the coefficients for the correlated attributes, X2, X3, X4, and X5 to exactly zero unlike the ridge regression model. As a result, its test error is significantly better than that for ridge regression."
      ]
    },
    {
      "cell_type": "markdown",
      "metadata": {
        "id": "VW2olqwzU_Ss"
      },
      "source": [
        "## Regression in Real Dataset - Stock Price Prediction"
      ]
    },
    {
      "cell_type": "markdown",
      "metadata": {
        "heading_collapsed": true,
        "id": "XVHiyFt5U_Ss"
      },
      "source": [
        "### Useful functions"
      ]
    },
    {
      "cell_type": "code",
      "execution_count": 14,
      "metadata": {
        "hidden": true,
        "id": "WAtbxQ37U_Ss"
      },
      "outputs": [],
      "source": [
        "#Function to normalize columns\n",
        "def normalize_numeric_minmax(df, name):\n",
        "        df[name] = ((df[name] - df[name].min()) / (df[name].max() - df[name].min())).astype(np.float32)\n",
        ""
      ]
    },
    {
      "cell_type": "code",
      "execution_count": 15,
      "metadata": {
        "hidden": true,
        "id": "PZOTYebtU_Ss"
      },
      "outputs": [],
      "source": [
        "# Convert a Pandas dataframe to the x,y inputs that TensorFlow needs\n",
        "import collections\n",
        "def to_xy(df, target):\n",
        "    result = []\n",
        "    for x in df.columns:\n",
        "        if x != target:\n",
        "            result.append(x)\n",
        "    # find out the type of the target column.\n",
        "    target_type = df[target].dtypes\n",
        "    target_type = target_type[0] if isinstance(target_type, collections.Sequence) else target_type\n",
        "    # Encode to int for classification, float otherwise. TensorFlow likes 32 bits.\n",
        "    if target_type in (np.int64, np.int32):\n",
        "        # Classification\n",
        "        dummies = pd.get_dummies(df[target])\n",
        "        return df[result].values.astype(np.float32), dummies.values.astype(np.float32)\n",
        "    else:\n",
        "        # Regression\n",
        "        return df[result].values.astype(np.float32), df[target].values.astype(np.float32)"
      ]
    },
    {
      "cell_type": "code",
      "execution_count": 16,
      "metadata": {
        "hidden": true,
        "id": "yWVFb3v1U_Ss"
      },
      "outputs": [],
      "source": [
        "# Regression chart.\n",
        "def chart_regression(pred,y,sort=True):\n",
        "    t = pd.DataFrame({'pred' : pred, 'y' : y.flatten()})\n",
        "    if sort:\n",
        "        t.sort_values(by=['y'],inplace=True)\n",
        "    a = plt.plot(t['y'].tolist(),label='expected')\n",
        "    b = plt.plot(t['pred'].tolist(),label='prediction')\n",
        "    plt.ylabel('output')\n",
        "    plt.legend()\n",
        "    plt.show()\n"
      ]
    },
    {
      "cell_type": "markdown",
      "metadata": {
        "heading_collapsed": true,
        "id": "ZGL77QMaU_Ss"
      },
      "source": [
        "### Data Pre-Processing"
      ]
    },
    {
      "cell_type": "code",
      "source": [
        "from google.colab import files\n",
        "uploaded = files.upload()"
      ],
      "metadata": {
        "colab": {
          "base_uri": "https://localhost:8080/",
          "height": 39
        },
        "id": "RdOuNXb_VVBa",
        "outputId": "50a0cd0c-88cc-4714-eb34-aafab05e2b8b"
      },
      "execution_count": null,
      "outputs": [
        {
          "output_type": "display_data",
          "data": {
            "text/plain": [
              "<IPython.core.display.HTML object>"
            ],
            "text/html": [
              "\n",
              "     <input type=\"file\" id=\"files-f064f787-6e3a-4ca7-a0e6-9a6be8a62c20\" name=\"files[]\" multiple disabled\n",
              "        style=\"border:none\" />\n",
              "     <output id=\"result-f064f787-6e3a-4ca7-a0e6-9a6be8a62c20\">\n",
              "      Upload widget is only available when the cell has been executed in the\n",
              "      current browser session. Please rerun this cell to enable.\n",
              "      </output>\n",
              "      <script>// Copyright 2017 Google LLC\n",
              "//\n",
              "// Licensed under the Apache License, Version 2.0 (the \"License\");\n",
              "// you may not use this file except in compliance with the License.\n",
              "// You may obtain a copy of the License at\n",
              "//\n",
              "//      http://www.apache.org/licenses/LICENSE-2.0\n",
              "//\n",
              "// Unless required by applicable law or agreed to in writing, software\n",
              "// distributed under the License is distributed on an \"AS IS\" BASIS,\n",
              "// WITHOUT WARRANTIES OR CONDITIONS OF ANY KIND, either express or implied.\n",
              "// See the License for the specific language governing permissions and\n",
              "// limitations under the License.\n",
              "\n",
              "/**\n",
              " * @fileoverview Helpers for google.colab Python module.\n",
              " */\n",
              "(function(scope) {\n",
              "function span(text, styleAttributes = {}) {\n",
              "  const element = document.createElement('span');\n",
              "  element.textContent = text;\n",
              "  for (const key of Object.keys(styleAttributes)) {\n",
              "    element.style[key] = styleAttributes[key];\n",
              "  }\n",
              "  return element;\n",
              "}\n",
              "\n",
              "// Max number of bytes which will be uploaded at a time.\n",
              "const MAX_PAYLOAD_SIZE = 100 * 1024;\n",
              "\n",
              "function _uploadFiles(inputId, outputId) {\n",
              "  const steps = uploadFilesStep(inputId, outputId);\n",
              "  const outputElement = document.getElementById(outputId);\n",
              "  // Cache steps on the outputElement to make it available for the next call\n",
              "  // to uploadFilesContinue from Python.\n",
              "  outputElement.steps = steps;\n",
              "\n",
              "  return _uploadFilesContinue(outputId);\n",
              "}\n",
              "\n",
              "// This is roughly an async generator (not supported in the browser yet),\n",
              "// where there are multiple asynchronous steps and the Python side is going\n",
              "// to poll for completion of each step.\n",
              "// This uses a Promise to block the python side on completion of each step,\n",
              "// then passes the result of the previous step as the input to the next step.\n",
              "function _uploadFilesContinue(outputId) {\n",
              "  const outputElement = document.getElementById(outputId);\n",
              "  const steps = outputElement.steps;\n",
              "\n",
              "  const next = steps.next(outputElement.lastPromiseValue);\n",
              "  return Promise.resolve(next.value.promise).then((value) => {\n",
              "    // Cache the last promise value to make it available to the next\n",
              "    // step of the generator.\n",
              "    outputElement.lastPromiseValue = value;\n",
              "    return next.value.response;\n",
              "  });\n",
              "}\n",
              "\n",
              "/**\n",
              " * Generator function which is called between each async step of the upload\n",
              " * process.\n",
              " * @param {string} inputId Element ID of the input file picker element.\n",
              " * @param {string} outputId Element ID of the output display.\n",
              " * @return {!Iterable<!Object>} Iterable of next steps.\n",
              " */\n",
              "function* uploadFilesStep(inputId, outputId) {\n",
              "  const inputElement = document.getElementById(inputId);\n",
              "  inputElement.disabled = false;\n",
              "\n",
              "  const outputElement = document.getElementById(outputId);\n",
              "  outputElement.innerHTML = '';\n",
              "\n",
              "  const pickedPromise = new Promise((resolve) => {\n",
              "    inputElement.addEventListener('change', (e) => {\n",
              "      resolve(e.target.files);\n",
              "    });\n",
              "  });\n",
              "\n",
              "  const cancel = document.createElement('button');\n",
              "  inputElement.parentElement.appendChild(cancel);\n",
              "  cancel.textContent = 'Cancel upload';\n",
              "  const cancelPromise = new Promise((resolve) => {\n",
              "    cancel.onclick = () => {\n",
              "      resolve(null);\n",
              "    };\n",
              "  });\n",
              "\n",
              "  // Wait for the user to pick the files.\n",
              "  const files = yield {\n",
              "    promise: Promise.race([pickedPromise, cancelPromise]),\n",
              "    response: {\n",
              "      action: 'starting',\n",
              "    }\n",
              "  };\n",
              "\n",
              "  cancel.remove();\n",
              "\n",
              "  // Disable the input element since further picks are not allowed.\n",
              "  inputElement.disabled = true;\n",
              "\n",
              "  if (!files) {\n",
              "    return {\n",
              "      response: {\n",
              "        action: 'complete',\n",
              "      }\n",
              "    };\n",
              "  }\n",
              "\n",
              "  for (const file of files) {\n",
              "    const li = document.createElement('li');\n",
              "    li.append(span(file.name, {fontWeight: 'bold'}));\n",
              "    li.append(span(\n",
              "        `(${file.type || 'n/a'}) - ${file.size} bytes, ` +\n",
              "        `last modified: ${\n",
              "            file.lastModifiedDate ? file.lastModifiedDate.toLocaleDateString() :\n",
              "                                    'n/a'} - `));\n",
              "    const percent = span('0% done');\n",
              "    li.appendChild(percent);\n",
              "\n",
              "    outputElement.appendChild(li);\n",
              "\n",
              "    const fileDataPromise = new Promise((resolve) => {\n",
              "      const reader = new FileReader();\n",
              "      reader.onload = (e) => {\n",
              "        resolve(e.target.result);\n",
              "      };\n",
              "      reader.readAsArrayBuffer(file);\n",
              "    });\n",
              "    // Wait for the data to be ready.\n",
              "    let fileData = yield {\n",
              "      promise: fileDataPromise,\n",
              "      response: {\n",
              "        action: 'continue',\n",
              "      }\n",
              "    };\n",
              "\n",
              "    // Use a chunked sending to avoid message size limits. See b/62115660.\n",
              "    let position = 0;\n",
              "    do {\n",
              "      const length = Math.min(fileData.byteLength - position, MAX_PAYLOAD_SIZE);\n",
              "      const chunk = new Uint8Array(fileData, position, length);\n",
              "      position += length;\n",
              "\n",
              "      const base64 = btoa(String.fromCharCode.apply(null, chunk));\n",
              "      yield {\n",
              "        response: {\n",
              "          action: 'append',\n",
              "          file: file.name,\n",
              "          data: base64,\n",
              "        },\n",
              "      };\n",
              "\n",
              "      let percentDone = fileData.byteLength === 0 ?\n",
              "          100 :\n",
              "          Math.round((position / fileData.byteLength) * 100);\n",
              "      percent.textContent = `${percentDone}% done`;\n",
              "\n",
              "    } while (position < fileData.byteLength);\n",
              "  }\n",
              "\n",
              "  // All done.\n",
              "  yield {\n",
              "    response: {\n",
              "      action: 'complete',\n",
              "    }\n",
              "  };\n",
              "}\n",
              "\n",
              "scope.google = scope.google || {};\n",
              "scope.google.colab = scope.google.colab || {};\n",
              "scope.google.colab._files = {\n",
              "  _uploadFiles,\n",
              "  _uploadFilesContinue,\n",
              "};\n",
              "})(self);\n",
              "</script> "
            ]
          },
          "metadata": {}
        }
      ]
    },
    {
      "cell_type": "code",
      "execution_count": null,
      "metadata": {
        "hidden": true,
        "id": "xlXtD69HU_St",
        "outputId": "f8db7962-ddbf-4031-c800-9e78789c71b4"
      },
      "outputs": [
        {
          "data": {
            "text/html": [
              "<div>\n",
              "<style scoped>\n",
              "    .dataframe tbody tr th:only-of-type {\n",
              "        vertical-align: middle;\n",
              "    }\n",
              "\n",
              "    .dataframe tbody tr th {\n",
              "        vertical-align: top;\n",
              "    }\n",
              "\n",
              "    .dataframe thead th {\n",
              "        text-align: right;\n",
              "    }\n",
              "</style>\n",
              "<table border=\"1\" class=\"dataframe\">\n",
              "  <thead>\n",
              "    <tr style=\"text-align: right;\">\n",
              "      <th></th>\n",
              "      <th>Date</th>\n",
              "      <th>Open</th>\n",
              "      <th>High</th>\n",
              "      <th>Low</th>\n",
              "      <th>Close</th>\n",
              "      <th>Adj_Close</th>\n",
              "      <th>Volume</th>\n",
              "    </tr>\n",
              "  </thead>\n",
              "  <tbody>\n",
              "    <tr>\n",
              "      <th>0</th>\n",
              "      <td>2000/3/27</td>\n",
              "      <td>3.812500</td>\n",
              "      <td>4.156250</td>\n",
              "      <td>3.812500</td>\n",
              "      <td>4.125000</td>\n",
              "      <td>4.125000</td>\n",
              "      <td>3675600</td>\n",
              "    </tr>\n",
              "    <tr>\n",
              "      <th>1</th>\n",
              "      <td>2000/3/28</td>\n",
              "      <td>4.125000</td>\n",
              "      <td>4.125000</td>\n",
              "      <td>4.000000</td>\n",
              "      <td>4.015625</td>\n",
              "      <td>4.015625</td>\n",
              "      <td>1077600</td>\n",
              "    </tr>\n",
              "    <tr>\n",
              "      <th>2</th>\n",
              "      <td>2000/3/29</td>\n",
              "      <td>4.000000</td>\n",
              "      <td>4.031250</td>\n",
              "      <td>3.953125</td>\n",
              "      <td>4.000000</td>\n",
              "      <td>4.000000</td>\n",
              "      <td>437200</td>\n",
              "    </tr>\n",
              "    <tr>\n",
              "      <th>3</th>\n",
              "      <td>2000/3/30</td>\n",
              "      <td>4.000000</td>\n",
              "      <td>4.000000</td>\n",
              "      <td>3.843750</td>\n",
              "      <td>3.843750</td>\n",
              "      <td>3.843750</td>\n",
              "      <td>1883600</td>\n",
              "    </tr>\n",
              "    <tr>\n",
              "      <th>4</th>\n",
              "      <td>2000/3/31</td>\n",
              "      <td>3.734375</td>\n",
              "      <td>3.734375</td>\n",
              "      <td>3.390625</td>\n",
              "      <td>3.390625</td>\n",
              "      <td>3.390625</td>\n",
              "      <td>7931600</td>\n",
              "    </tr>\n",
              "  </tbody>\n",
              "</table>\n",
              "</div>"
            ],
            "text/plain": [
              "        Date      Open      High       Low     Close  Adj_Close   Volume\n",
              "0  2000/3/27  3.812500  4.156250  3.812500  4.125000   4.125000  3675600\n",
              "1  2000/3/28  4.125000  4.125000  4.000000  4.015625   4.015625  1077600\n",
              "2  2000/3/29  4.000000  4.031250  3.953125  4.000000   4.000000   437200\n",
              "3  2000/3/30  4.000000  4.000000  3.843750  3.843750   3.843750  1883600\n",
              "4  2000/3/31  3.734375  3.734375  3.390625  3.390625   3.390625  7931600"
            ]
          },
          "execution_count": 18,
          "metadata": {},
          "output_type": "execute_result"
        }
      ],
      "source": [
        "#Read Stock_Price_MAX.csv file and load data into stock_df dataframe\n",
        "stock_df= pd.read_csv('data/Stock_Price_MAX.csv')\n",
        "stock_df[0:5]"
      ]
    },
    {
      "cell_type": "code",
      "execution_count": null,
      "metadata": {
        "hidden": true,
        "id": "fFlZ7jBlU_Sy",
        "outputId": "5fb611b9-9199-4d8e-e5c9-485e419f5c76"
      },
      "outputs": [
        {
          "data": {
            "text/html": [
              "<div>\n",
              "<style scoped>\n",
              "    .dataframe tbody tr th:only-of-type {\n",
              "        vertical-align: middle;\n",
              "    }\n",
              "\n",
              "    .dataframe tbody tr th {\n",
              "        vertical-align: top;\n",
              "    }\n",
              "\n",
              "    .dataframe thead th {\n",
              "        text-align: right;\n",
              "    }\n",
              "</style>\n",
              "<table border=\"1\" class=\"dataframe\">\n",
              "  <thead>\n",
              "    <tr style=\"text-align: right;\">\n",
              "      <th></th>\n",
              "      <th>Open</th>\n",
              "      <th>High</th>\n",
              "      <th>Low</th>\n",
              "      <th>Close</th>\n",
              "      <th>Volume</th>\n",
              "    </tr>\n",
              "  </thead>\n",
              "  <tbody>\n",
              "    <tr>\n",
              "      <th>0</th>\n",
              "      <td>3.812500</td>\n",
              "      <td>4.156250</td>\n",
              "      <td>3.812500</td>\n",
              "      <td>4.125000</td>\n",
              "      <td>3675600</td>\n",
              "    </tr>\n",
              "    <tr>\n",
              "      <th>1</th>\n",
              "      <td>4.125000</td>\n",
              "      <td>4.125000</td>\n",
              "      <td>4.000000</td>\n",
              "      <td>4.015625</td>\n",
              "      <td>1077600</td>\n",
              "    </tr>\n",
              "    <tr>\n",
              "      <th>2</th>\n",
              "      <td>4.000000</td>\n",
              "      <td>4.031250</td>\n",
              "      <td>3.953125</td>\n",
              "      <td>4.000000</td>\n",
              "      <td>437200</td>\n",
              "    </tr>\n",
              "    <tr>\n",
              "      <th>3</th>\n",
              "      <td>4.000000</td>\n",
              "      <td>4.000000</td>\n",
              "      <td>3.843750</td>\n",
              "      <td>3.843750</td>\n",
              "      <td>1883600</td>\n",
              "    </tr>\n",
              "    <tr>\n",
              "      <th>4</th>\n",
              "      <td>3.734375</td>\n",
              "      <td>3.734375</td>\n",
              "      <td>3.390625</td>\n",
              "      <td>3.390625</td>\n",
              "      <td>7931600</td>\n",
              "    </tr>\n",
              "  </tbody>\n",
              "</table>\n",
              "</div>"
            ],
            "text/plain": [
              "       Open      High       Low     Close   Volume\n",
              "0  3.812500  4.156250  3.812500  4.125000  3675600\n",
              "1  4.125000  4.125000  4.000000  4.015625  1077600\n",
              "2  4.000000  4.031250  3.953125  4.000000   437200\n",
              "3  4.000000  4.000000  3.843750  3.843750  1883600\n",
              "4  3.734375  3.734375  3.390625  3.390625  7931600"
            ]
          },
          "execution_count": 19,
          "metadata": {},
          "output_type": "execute_result"
        }
      ],
      "source": [
        "stock_df = stock_df.drop(['Date', 'Adj_Close'], axis = 1)\n",
        "stock_df[0:5]"
      ]
    },
    {
      "cell_type": "code",
      "execution_count": null,
      "metadata": {
        "hidden": true,
        "id": "cCVHvKh6U_Sy",
        "outputId": "04828f99-c250-4eb4-df9b-7f9c1e37ad19"
      },
      "outputs": [
        {
          "data": {
            "text/html": [
              "<div>\n",
              "<style scoped>\n",
              "    .dataframe tbody tr th:only-of-type {\n",
              "        vertical-align: middle;\n",
              "    }\n",
              "\n",
              "    .dataframe tbody tr th {\n",
              "        vertical-align: top;\n",
              "    }\n",
              "\n",
              "    .dataframe thead th {\n",
              "        text-align: right;\n",
              "    }\n",
              "</style>\n",
              "<table border=\"1\" class=\"dataframe\">\n",
              "  <thead>\n",
              "    <tr style=\"text-align: right;\">\n",
              "      <th></th>\n",
              "      <th>Open</th>\n",
              "      <th>High</th>\n",
              "      <th>Low</th>\n",
              "      <th>Close</th>\n",
              "      <th>Volume</th>\n",
              "    </tr>\n",
              "  </thead>\n",
              "  <tbody>\n",
              "    <tr>\n",
              "      <th>0</th>\n",
              "      <td>0.004378</td>\n",
              "      <td>0.006469</td>\n",
              "      <td>0.006934</td>\n",
              "      <td>4.125000</td>\n",
              "      <td>0.075401</td>\n",
              "    </tr>\n",
              "    <tr>\n",
              "      <th>1</th>\n",
              "      <td>0.007031</td>\n",
              "      <td>0.006205</td>\n",
              "      <td>0.008535</td>\n",
              "      <td>4.015625</td>\n",
              "      <td>0.019194</td>\n",
              "    </tr>\n",
              "    <tr>\n",
              "      <th>2</th>\n",
              "      <td>0.005970</td>\n",
              "      <td>0.005413</td>\n",
              "      <td>0.008135</td>\n",
              "      <td>4.000000</td>\n",
              "      <td>0.005339</td>\n",
              "    </tr>\n",
              "    <tr>\n",
              "      <th>3</th>\n",
              "      <td>0.005970</td>\n",
              "      <td>0.005149</td>\n",
              "      <td>0.007201</td>\n",
              "      <td>3.843750</td>\n",
              "      <td>0.036632</td>\n",
              "    </tr>\n",
              "    <tr>\n",
              "      <th>4</th>\n",
              "      <td>0.003714</td>\n",
              "      <td>0.002904</td>\n",
              "      <td>0.003334</td>\n",
              "      <td>3.390625</td>\n",
              "      <td>0.167478</td>\n",
              "    </tr>\n",
              "  </tbody>\n",
              "</table>\n",
              "</div>"
            ],
            "text/plain": [
              "       Open      High       Low     Close    Volume\n",
              "0  0.004378  0.006469  0.006934  4.125000  0.075401\n",
              "1  0.007031  0.006205  0.008535  4.015625  0.019194\n",
              "2  0.005970  0.005413  0.008135  4.000000  0.005339\n",
              "3  0.005970  0.005149  0.007201  3.843750  0.036632\n",
              "4  0.003714  0.002904  0.003334  3.390625  0.167478"
            ]
          },
          "execution_count": 20,
          "metadata": {},
          "output_type": "execute_result"
        }
      ],
      "source": [
        "# Normalize the input columns\n",
        "\n",
        "normalize_numeric_minmax(stock_df,\"Open\")\n",
        "normalize_numeric_minmax(stock_df,\"High\")\n",
        "normalize_numeric_minmax(stock_df,\"Low\")\n",
        "normalize_numeric_minmax(stock_df,\"Volume\")\n",
        "stock_df[0:5]"
      ]
    },
    {
      "cell_type": "code",
      "execution_count": null,
      "metadata": {
        "hidden": true,
        "id": "UpGnFT8iU_Sy",
        "outputId": "3f4290e0-c55a-41cf-ed30-966be47031ad"
      },
      "outputs": [
        {
          "name": "stderr",
          "output_type": "stream",
          "text": [
            "/anaconda3/lib/python3.7/site-packages/ipykernel_launcher.py:10: DeprecationWarning: Using or importing the ABCs from 'collections' instead of from 'collections.abc' is deprecated, and in 3.8 it will stop working\n",
            "  # Remove the CWD from sys.path while we load stuff.\n"
          ]
        }
      ],
      "source": [
        "# to xy to convert pandas to tensor flow\n",
        "x,y=to_xy(stock_df,\"Close\")"
      ]
    },
    {
      "cell_type": "code",
      "execution_count": null,
      "metadata": {
        "hidden": true,
        "id": "cIqIXL0lU_Sz"
      },
      "outputs": [],
      "source": [
        "#Split for train and test\n",
        "from sklearn.model_selection import train_test_split\n",
        "\n",
        "x_train, x_test, y_train, y_test = train_test_split(x,y, test_size=0.3, random_state=42)"
      ]
    },
    {
      "cell_type": "code",
      "execution_count": null,
      "metadata": {
        "hidden": true,
        "id": "YATCuzlhU_Sz",
        "outputId": "2988a8e4-c6e0-482c-cac7-789963e1d6e9"
      },
      "outputs": [
        {
          "data": {
            "text/plain": [
              "(3074, 4)"
            ]
          },
          "execution_count": 24,
          "metadata": {},
          "output_type": "execute_result"
        }
      ],
      "source": [
        "x_train.shape"
      ]
    },
    {
      "cell_type": "code",
      "execution_count": null,
      "metadata": {
        "hidden": true,
        "id": "2s8rJEWrU_Sz",
        "outputId": "4ae0051f-ca33-4bc0-bdf7-868490781059"
      },
      "outputs": [
        {
          "data": {
            "text/plain": [
              "(1318, 4)"
            ]
          },
          "execution_count": 25,
          "metadata": {},
          "output_type": "execute_result"
        }
      ],
      "source": [
        "x_test.shape"
      ]
    },
    {
      "cell_type": "code",
      "execution_count": null,
      "metadata": {
        "hidden": true,
        "id": "4Sl89Oc8U_Sz",
        "outputId": "e016e2d3-bd9f-453e-e83f-b1d9c6ba938f"
      },
      "outputs": [
        {
          "data": {
            "text/plain": [
              "(3074,)"
            ]
          },
          "execution_count": 26,
          "metadata": {},
          "output_type": "execute_result"
        }
      ],
      "source": [
        "y_train.shape"
      ]
    },
    {
      "cell_type": "code",
      "execution_count": null,
      "metadata": {
        "hidden": true,
        "scrolled": true,
        "id": "fykTcqyjU_Sz",
        "outputId": "fa4084f8-0b59-4878-9a7f-05b9c1e22c83"
      },
      "outputs": [
        {
          "data": {
            "text/plain": [
              "(1318,)"
            ]
          },
          "execution_count": 27,
          "metadata": {},
          "output_type": "execute_result"
        }
      ],
      "source": [
        "y_test.shape"
      ]
    },
    {
      "cell_type": "markdown",
      "metadata": {
        "heading_collapsed": true,
        "id": "Sf6N9zZwU_S0"
      },
      "source": [
        "### Train Model - SKLearn"
      ]
    },
    {
      "cell_type": "code",
      "execution_count": null,
      "metadata": {
        "hidden": true,
        "id": "ZwAmN511U_S0",
        "outputId": "636bfdb0-f39e-4e94-a3a4-be51a064fa60"
      },
      "outputs": [
        {
          "data": {
            "text/plain": [
              "LinearRegression(copy_X=True, fit_intercept=True, n_jobs=None,\n",
              "         normalize=False)"
            ]
          },
          "execution_count": 29,
          "metadata": {},
          "output_type": "execute_result"
        }
      ],
      "source": [
        "from sklearn import linear_model\n",
        "from sklearn.metrics import mean_squared_error, r2_score\n",
        "\n",
        "# Create linear regression object\n",
        "stock_regr = linear_model.LinearRegression()\n",
        "\n",
        "# Fit regression model to the training set\n",
        "stock_regr.fit(x_train, y_train)"
      ]
    },
    {
      "cell_type": "markdown",
      "metadata": {
        "heading_collapsed": true,
        "id": "nSVGSV5cU_S0"
      },
      "source": [
        "### Prediction and Model Evaluation"
      ]
    },
    {
      "cell_type": "code",
      "execution_count": null,
      "metadata": {
        "hidden": true,
        "id": "Ag5HNm4UU_S0"
      },
      "outputs": [],
      "source": [
        "y_pred = stock_regr.predict(x_test)\n"
      ]
    },
    {
      "cell_type": "code",
      "execution_count": null,
      "metadata": {
        "hidden": true,
        "id": "TY_VdS4hU_S0",
        "outputId": "37498d80-3c11-41ae-c756-f825f0b169f3"
      },
      "outputs": [
        {
          "name": "stdout",
          "output_type": "stream",
          "text": [
            "True price :  119.72 Prediction :  119.59525\n",
            "True price :  46.7 Prediction :  46.442554\n",
            "True price :  12.9675 Prediction :  12.94248\n",
            "True price :  6.1 Prediction :  6.070262\n",
            "True price :  77.55 Prediction :  78.00407\n",
            "True price :  24.695 Prediction :  24.462349\n",
            "True price :  78.03 Prediction :  77.87387\n",
            "True price :  6.77 Prediction :  6.7446566\n",
            "True price :  5.785 Prediction :  5.731415\n",
            "True price :  8.1425 Prediction :  8.118291\n"
          ]
        }
      ],
      "source": [
        "for i in range(10):\n",
        "    print(\"True price : \",y_test[i],\"Prediction : \", y_pred[i])"
      ]
    },
    {
      "cell_type": "code",
      "execution_count": null,
      "metadata": {
        "hidden": true,
        "id": "gB2mrKOkU_S0",
        "outputId": "964f85be-4889-4db0-ad0d-843540ac5ff6"
      },
      "outputs": [
        {
          "name": "stdout",
          "output_type": "stream",
          "text": [
            "[-66.10664     91.223724    92.60901     -0.16484131] 3.150711\n"
          ]
        }
      ],
      "source": [
        "print(stock_regr.coef_, stock_regr.intercept_)"
      ]
    },
    {
      "cell_type": "code",
      "execution_count": null,
      "metadata": {
        "hidden": true,
        "id": "bgBa7mAuU_S1",
        "outputId": "7d434b6c-2187-4f92-daad-1bed0c7923f9"
      },
      "outputs": [
        {
          "name": "stdout",
          "output_type": "stream",
          "text": [
            "Root mean squared error = 0.2725\n",
            "R-squared = 0.9999\n"
          ]
        },
        {
          "data": {
            "image/png": "[encoded data removed]",
            "text/plain": [
              "<Figure size 432x288 with 1 Axes>"
            ]
          },
          "metadata": {
            "needs_background": "light"
          },
          "output_type": "display_data"
        }
      ],
      "source": [
        "# Comparing true versus predicted values\n",
        "plt.scatter(y_test, y_pred, color='black')\n",
        "plt.title('Comparing true and predicted values for test set')\n",
        "plt.xlabel('True values for y')\n",
        "plt.ylabel('Predicted values for y')\n",
        "\n",
        "# Model evaluation\n",
        "print(\"Root mean squared error = %.4f\" % np.sqrt(mean_squared_error(y_test, y_pred)))\n",
        "print('R-squared = %.4f' % r2_score(y_test, y_pred))"
      ]
    },
    {
      "cell_type": "code",
      "execution_count": null,
      "metadata": {
        "hidden": true,
        "id": "dX-tWI0pU_S1",
        "outputId": "f8032025-2ccb-445a-fd2a-273b152a2b76"
      },
      "outputs": [
        {
          "data": {
            "image/png": "[encoded data removed]",
            "text/plain": [
              "<Figure size 432x288 with 1 Axes>"
            ]
          },
          "metadata": {
            "needs_background": "light"
          },
          "output_type": "display_data"
        }
      ],
      "source": [
        "chart_regression(y_pred,y_test)"
      ]
    },
    {
      "cell_type": "markdown",
      "metadata": {
        "heading_collapsed": true,
        "id": "NbwhujQsU_S1"
      },
      "source": [
        "### Train Model - Neural Network"
      ]
    },
    {
      "cell_type": "code",
      "execution_count": null,
      "metadata": {
        "hidden": true,
        "id": "dTY6Vw8SU_S1",
        "outputId": "8e62666e-6c5b-42b4-8824-44ca9da6b01c"
      },
      "outputs": [
        {
          "name": "stderr",
          "output_type": "stream",
          "text": [
            "Using TensorFlow backend.\n"
          ]
        }
      ],
      "source": [
        "# Imports\n",
        "\n",
        "from keras import Sequential\n",
        "from keras.layers.core import Dense"
      ]
    },
    {
      "cell_type": "code",
      "execution_count": null,
      "metadata": {
        "hidden": true,
        "scrolled": true,
        "id": "bvKzUZVsU_S2",
        "outputId": "76ecbfd9-a4c3-4cf5-ef39-65b946014924"
      },
      "outputs": [
        {
          "name": "stdout",
          "output_type": "stream",
          "text": [
            "Epoch 1/100\n",
            "3074/3074 [==============================] - 0s 85us/step - loss: 1748.1590\n",
            "Epoch 2/100\n",
            "3074/3074 [==============================] - 0s 23us/step - loss: 935.9215\n",
            "Epoch 3/100\n",
            "3074/3074 [==============================] - 0s 24us/step - loss: 186.7690\n",
            "Epoch 4/100\n",
            "3074/3074 [==============================] - 0s 24us/step - loss: 70.0821\n",
            "Epoch 5/100\n",
            "3074/3074 [==============================] - 0s 23us/step - loss: 15.1783\n",
            "Epoch 6/100\n",
            "3074/3074 [==============================] - 0s 23us/step - loss: 1.0733\n",
            "Epoch 7/100\n",
            "3074/3074 [==============================] - 0s 24us/step - loss: 0.2042\n",
            "Epoch 8/100\n",
            "3074/3074 [==============================] - 0s 23us/step - loss: 0.1840\n",
            "Epoch 9/100\n",
            "3074/3074 [==============================] - 0s 23us/step - loss: 0.1782\n",
            "Epoch 10/100\n",
            "3074/3074 [==============================] - 0s 24us/step - loss: 0.1816\n",
            "Epoch 11/100\n",
            "3074/3074 [==============================] - 0s 26us/step - loss: 0.1756\n",
            "Epoch 12/100\n",
            "3074/3074 [==============================] - 0s 23us/step - loss: 0.1748\n",
            "Epoch 13/100\n",
            "3074/3074 [==============================] - 0s 22us/step - loss: 0.1744\n",
            "Epoch 14/100\n",
            "3074/3074 [==============================] - 0s 24us/step - loss: 0.1746\n",
            "Epoch 15/100\n",
            "3074/3074 [==============================] - 0s 23us/step - loss: 0.1730\n",
            "Epoch 16/100\n",
            "3074/3074 [==============================] - 0s 27us/step - loss: 0.1709\n",
            "Epoch 17/100\n",
            "3074/3074 [==============================] - 0s 25us/step - loss: 0.1709\n",
            "Epoch 18/100\n",
            "3074/3074 [==============================] - 0s 26us/step - loss: 0.1713\n",
            "Epoch 19/100\n",
            "3074/3074 [==============================] - 0s 25us/step - loss: 0.1692\n",
            "Epoch 20/100\n",
            "3074/3074 [==============================] - 0s 27us/step - loss: 0.1717\n",
            "Epoch 21/100\n",
            "3074/3074 [==============================] - 0s 25us/step - loss: 0.1698\n",
            "Epoch 22/100\n",
            "3074/3074 [==============================] - 0s 24us/step - loss: 0.1786\n",
            "Epoch 23/100\n",
            "3074/3074 [==============================] - 0s 24us/step - loss: 0.1741\n",
            "Epoch 24/100\n",
            "3074/3074 [==============================] - 0s 24us/step - loss: 0.1683\n",
            "Epoch 25/100\n",
            "3074/3074 [==============================] - 0s 23us/step - loss: 0.1715\n",
            "Epoch 26/100\n",
            "3074/3074 [==============================] - 0s 24us/step - loss: 0.1719\n",
            "Epoch 27/100\n",
            "3074/3074 [==============================] - 0s 25us/step - loss: 0.1688\n",
            "Epoch 28/100\n",
            "3074/3074 [==============================] - 0s 23us/step - loss: 0.1682\n",
            "Epoch 29/100\n",
            "3074/3074 [==============================] - 0s 24us/step - loss: 0.1703\n",
            "Epoch 30/100\n",
            "3074/3074 [==============================] - 0s 33us/step - loss: 0.1693\n",
            "Epoch 31/100\n",
            "3074/3074 [==============================] - 0s 32us/step - loss: 0.1682\n",
            "Epoch 32/100\n",
            "3074/3074 [==============================] - 0s 32us/step - loss: 0.1696\n",
            "Epoch 33/100\n",
            "3074/3074 [==============================] - 0s 31us/step - loss: 0.1735\n",
            "Epoch 34/100\n",
            "3074/3074 [==============================] - 0s 26us/step - loss: 0.1780\n",
            "Epoch 35/100\n",
            "3074/3074 [==============================] - 0s 27us/step - loss: 0.1675\n",
            "Epoch 36/100\n",
            "3074/3074 [==============================] - 0s 28us/step - loss: 0.1787\n",
            "Epoch 37/100\n",
            "3074/3074 [==============================] - 0s 25us/step - loss: 0.1724\n",
            "Epoch 38/100\n",
            "3074/3074 [==============================] - 0s 24us/step - loss: 0.1702\n",
            "Epoch 39/100\n",
            "3074/3074 [==============================] - 0s 24us/step - loss: 0.1721\n",
            "Epoch 40/100\n",
            "3074/3074 [==============================] - 0s 24us/step - loss: 0.1715\n",
            "Epoch 41/100\n",
            "3074/3074 [==============================] - 0s 23us/step - loss: 0.1700\n",
            "Epoch 42/100\n",
            "3074/3074 [==============================] - 0s 25us/step - loss: 0.1667\n",
            "Epoch 43/100\n",
            "3074/3074 [==============================] - 0s 24us/step - loss: 0.1734\n",
            "Epoch 44/100\n",
            "3074/3074 [==============================] - 0s 45us/step - loss: 0.1700\n",
            "Epoch 45/100\n",
            "3074/3074 [==============================] - 0s 50us/step - loss: 0.1756\n",
            "Epoch 46/100\n",
            "3074/3074 [==============================] - 0s 28us/step - loss: 0.1783\n",
            "Epoch 47/100\n",
            "3074/3074 [==============================] - 0s 37us/step - loss: 0.1715\n",
            "Epoch 48/100\n",
            "3074/3074 [==============================] - 0s 31us/step - loss: 0.1722\n",
            "Epoch 49/100\n",
            "3074/3074 [==============================] - 0s 33us/step - loss: 0.1709\n",
            "Epoch 50/100\n",
            "3074/3074 [==============================] - 0s 39us/step - loss: 0.1750\n",
            "Epoch 51/100\n",
            "3074/3074 [==============================] - 0s 24us/step - loss: 0.1726\n",
            "Epoch 52/100\n",
            "3074/3074 [==============================] - 0s 23us/step - loss: 0.1748\n",
            "Epoch 53/100\n",
            "3074/3074 [==============================] - 0s 23us/step - loss: 0.1761\n",
            "Epoch 54/100\n",
            "3074/3074 [==============================] - 0s 31us/step - loss: 0.1734\n",
            "Epoch 55/100\n",
            "3074/3074 [==============================] - 0s 34us/step - loss: 0.1697\n",
            "Epoch 56/100\n",
            "3074/3074 [==============================] - 0s 43us/step - loss: 0.1962\n",
            "Epoch 57/100\n",
            "3074/3074 [==============================] - 0s 47us/step - loss: 0.1760\n",
            "Epoch 58/100\n",
            "3074/3074 [==============================] - 0s 35us/step - loss: 0.1673\n",
            "Epoch 59/100\n",
            "3074/3074 [==============================] - 0s 29us/step - loss: 0.1748\n",
            "Epoch 60/100\n",
            "3074/3074 [==============================] - 0s 31us/step - loss: 0.1725\n",
            "Epoch 61/100\n",
            "3074/3074 [==============================] - 0s 24us/step - loss: 0.1744\n",
            "Epoch 62/100\n",
            "3074/3074 [==============================] - 0s 24us/step - loss: 0.1912\n",
            "Epoch 63/100\n",
            "3074/3074 [==============================] - 0s 25us/step - loss: 0.1768\n",
            "Epoch 64/100\n",
            "3074/3074 [==============================] - 0s 27us/step - loss: 0.1712\n",
            "Epoch 65/100\n",
            "3074/3074 [==============================] - 0s 31us/step - loss: 0.1695\n",
            "Epoch 66/100\n",
            "3074/3074 [==============================] - 0s 31us/step - loss: 0.1757\n",
            "Epoch 67/100\n",
            "3074/3074 [==============================] - 0s 25us/step - loss: 0.1818\n",
            "Epoch 68/100\n",
            "3074/3074 [==============================] - 0s 27us/step - loss: 0.1814\n",
            "Epoch 69/100\n",
            "3074/3074 [==============================] - 0s 27us/step - loss: 0.1749\n",
            "Epoch 70/100\n",
            "3074/3074 [==============================] - 0s 24us/step - loss: 0.1737\n",
            "Epoch 71/100\n",
            "3074/3074 [==============================] - 0s 24us/step - loss: 0.1743\n",
            "Epoch 72/100\n",
            "3074/3074 [==============================] - 0s 24us/step - loss: 0.1792\n",
            "Epoch 73/100\n",
            "3074/3074 [==============================] - 0s 24us/step - loss: 0.1790\n",
            "Epoch 74/100\n",
            "3074/3074 [==============================] - 0s 24us/step - loss: 0.1798\n",
            "Epoch 75/100\n",
            "3074/3074 [==============================] - 0s 24us/step - loss: 0.1681\n",
            "Epoch 76/100\n",
            "3074/3074 [==============================] - 0s 24us/step - loss: 0.1723\n",
            "Epoch 77/100\n",
            "3074/3074 [==============================] - 0s 41us/step - loss: 0.1758\n",
            "Epoch 78/100\n",
            "3074/3074 [==============================] - 0s 33us/step - loss: 0.1759\n",
            "Epoch 79/100\n",
            "3074/3074 [==============================] - 0s 27us/step - loss: 0.1716\n",
            "Epoch 80/100\n",
            "3074/3074 [==============================] - 0s 32us/step - loss: 0.1834\n",
            "Epoch 81/100\n",
            "3074/3074 [==============================] - 0s 39us/step - loss: 0.2146\n",
            "Epoch 82/100\n",
            "3074/3074 [==============================] - 0s 30us/step - loss: 0.1726\n",
            "Epoch 83/100\n",
            "3074/3074 [==============================] - 0s 29us/step - loss: 0.1775\n",
            "Epoch 84/100\n",
            "3074/3074 [==============================] - 0s 30us/step - loss: 0.1760\n",
            "Epoch 85/100\n",
            "3074/3074 [==============================] - 0s 30us/step - loss: 0.1770\n",
            "Epoch 86/100\n",
            "3074/3074 [==============================] - 0s 29us/step - loss: 0.1806\n",
            "Epoch 87/100\n",
            "3074/3074 [==============================] - 0s 33us/step - loss: 0.1800\n",
            "Epoch 88/100\n",
            "3074/3074 [==============================] - 0s 33us/step - loss: 0.1799\n",
            "Epoch 89/100\n",
            "3074/3074 [==============================] - 0s 29us/step - loss: 0.1733\n",
            "Epoch 90/100\n",
            "3074/3074 [==============================] - 0s 27us/step - loss: 0.1777\n",
            "Epoch 91/100\n",
            "3074/3074 [==============================] - 0s 30us/step - loss: 0.1819\n",
            "Epoch 92/100\n",
            "3074/3074 [==============================] - 0s 29us/step - loss: 0.1702\n",
            "Epoch 93/100\n",
            "3074/3074 [==============================] - 0s 29us/step - loss: 0.1680\n",
            "Epoch 94/100\n",
            "3074/3074 [==============================] - 0s 27us/step - loss: 0.1763\n",
            "Epoch 95/100\n",
            "3074/3074 [==============================] - 0s 24us/step - loss: 0.1736\n",
            "Epoch 96/100\n"
          ]
        },
        {
          "name": "stdout",
          "output_type": "stream",
          "text": [
            "3074/3074 [==============================] - 0s 25us/step - loss: 0.1720\n",
            "Epoch 97/100\n",
            "3074/3074 [==============================] - 0s 22us/step - loss: 0.1746\n",
            "Epoch 98/100\n",
            "3074/3074 [==============================] - 0s 22us/step - loss: 0.1738\n",
            "Epoch 99/100\n",
            "3074/3074 [==============================] - 0s 23us/step - loss: 0.1709\n",
            "Epoch 100/100\n",
            "3074/3074 [==============================] - 0s 23us/step - loss: 0.1759\n"
          ]
        },
        {
          "data": {
            "text/plain": [
              "<keras.callbacks.History at 0x1a3671be10>"
            ]
          },
          "execution_count": 52,
          "metadata": {},
          "output_type": "execute_result"
        }
      ],
      "source": [
        "# Build network\n",
        "model_relu = Sequential()\n",
        "model_relu.add(Dense(60, input_dim=x_train.shape[1], activation='relu'))\n",
        "model_relu.add(Dense(30, activation='relu')) # Hidden 2\n",
        "model_relu.add(Dense(1)) # Output\n",
        "model_relu.compile(loss='mean_squared_error', optimizer='adam')\n",
        "model_relu.fit(x_train,y_train,verbose=1,epochs=100)"
      ]
    },
    {
      "cell_type": "markdown",
      "metadata": {
        "heading_collapsed": true,
        "id": "OVn8HPDDU_S2"
      },
      "source": [
        "### Prediction and Model Evaluation"
      ]
    },
    {
      "cell_type": "code",
      "execution_count": null,
      "metadata": {
        "hidden": true,
        "id": "fnxmq5adU_S2",
        "outputId": "2f115276-c149-4d47-dd8e-b3fa61fba57f"
      },
      "outputs": [
        {
          "name": "stdout",
          "output_type": "stream",
          "text": [
            "Shape: (1318, 1)\n"
          ]
        }
      ],
      "source": [
        "# Predict Price\n",
        "y_pred_nn = model_relu.predict(x_test)\n",
        "print(\"Shape: {}\".format(y_pred_nn.shape))"
      ]
    },
    {
      "cell_type": "code",
      "execution_count": null,
      "metadata": {
        "hidden": true,
        "id": "GBYQdwA1U_S2",
        "outputId": "532a2bc1-11f5-4888-e44f-525d27c8e775"
      },
      "outputs": [
        {
          "name": "stdout",
          "output_type": "stream",
          "text": [
            "Final score (RMSE): 0.42891180515289307\n",
            "R2 score: 1.00\n"
          ]
        }
      ],
      "source": [
        "# Measure RMS error.  RMSE is common for regression.\n",
        "\n",
        "score_nn = np.sqrt(mean_squared_error(y_test,y_pred_nn))\n",
        "print(\"Final score (RMSE): {}\".format(score_nn))\n",
        "print('R2 score: %.2f' % r2_score(y_test, y_pred_nn))"
      ]
    },
    {
      "cell_type": "code",
      "execution_count": null,
      "metadata": {
        "hidden": true,
        "id": "D0Iy2Sy3U_S2",
        "outputId": "e6fa5027-adf8-41a1-edff-3fb637f9633b"
      },
      "outputs": [
        {
          "data": {
            "text/plain": [
              "Text(0, 0.5, 'Predicted values for y')"
            ]
          },
          "execution_count": 51,
          "metadata": {},
          "output_type": "execute_result"
        },
        {
          "data": {
            "image/png": "[encoded data removed]",
            "text/plain": [
              "<Figure size 432x288 with 1 Axes>"
            ]
          },
          "metadata": {
            "needs_background": "light"
          },
          "output_type": "display_data"
        }
      ],
      "source": [
        "# Comparing true versus predicted values\n",
        "plt.scatter(y_test, y_pred_nn, color='black')\n",
        "plt.title('Comparing true and predicted values for test set')\n",
        "plt.xlabel('True values for y')\n",
        "plt.ylabel('Predicted values for y')"
      ]
    },
    {
      "cell_type": "code",
      "execution_count": null,
      "metadata": {
        "hidden": true,
        "id": "WTFpBZpoU_S2",
        "outputId": "40e4ef80-952d-4134-cf9b-7cf040de4963"
      },
      "outputs": [
        {
          "data": {
            "image/png": "[encoded data removed]",
            "text/plain": [
              "<Figure size 432x288 with 1 Axes>"
            ]
          },
          "metadata": {
            "needs_background": "light"
          },
          "output_type": "display_data"
        }
      ],
      "source": [
        "#Regression lift Chart\n",
        "chart_regression(y_pred_nn.flatten(),y_test)"
      ]
    },
    {
      "cell_type": "code",
      "execution_count": null,
      "metadata": {
        "hidden": true,
        "id": "N1lZCl9XU_S2"
      },
      "outputs": [],
      "source": []
    }
  ],
  "metadata": {
    "kernelspec": {
      "display_name": "Python 3",
      "language": "python",
      "name": "python3"
    },
    "language_info": {
      "codemirror_mode": {
        "name": "ipython",
        "version": 3
      },
      "file_extension": ".py",
      "mimetype": "text/x-python",
      "name": "python",
      "nbconvert_exporter": "python",
      "pygments_lexer": "ipython3",
      "version": "3.7.3"
    },
    "colab": {
      "provenance": [],
      "include_colab_link": true
    }
  },
  "nbformat": 4,
  "nbformat_minor": 0
}