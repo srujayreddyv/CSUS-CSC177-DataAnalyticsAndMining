{
  "cells": [
    {
      "cell_type": "markdown",
      "metadata": {
        "id": "view-in-github",
        "colab_type": "text"
      },
      "source": [
        "<a href=\"https://colab.research.google.com/github/srujayreddyv/CSUS-CSC177-DataAnalyticsAndMining/blob/main/labs/Tutorial7_Text_Processing_Srujay.ipynb\" target=\"_parent\"><img src=\"https://colab.research.google.com/assets/colab-badge.svg\" alt=\"Open In Colab\"/></a>"
      ]
    },
    {
      "cell_type": "markdown",
      "metadata": {
        "id": "W1uyp7bBaqkN"
      },
      "source": [
        "# Module 7: Text Processing\n",
        "\n",
        "Python offers a set of tools for extracting features:http://scikit-learn.org/stable/modules/feature_extraction.html"
      ]
    },
    {
      "cell_type": "markdown",
      "metadata": {
        "id": "jG39_wNnaqkR"
      },
      "source": [
        "## Text Processing"
      ]
    },
    {
      "cell_type": "code",
      "execution_count": 1,
      "metadata": {
        "id": "oaLcKocmaqkS"
      },
      "outputs": [],
      "source": [
        "corpus = ['This is the first document.',\n",
        "           'this is the second second document.',\n",
        "           'And the third one.',\n",
        "           'Is this the first first first document?',\n",
        "          ]"
      ]
    },
    {
      "cell_type": "markdown",
      "metadata": {
        "id": "-uZ8QXQpaqkT"
      },
      "source": [
        "### CountVectorizer\n",
        "\n",
        "CountVectorizer transforms text into a sparse matrix where rows are text and columns are words, and values are occurrence values."
      ]
    },
    {
      "cell_type": "code",
      "execution_count": 3,
      "metadata": {
        "colab": {
          "base_uri": "https://localhost:8080/"
        },
        "id": "-FokfDqSaqkU",
        "outputId": "c74b8e14-e8b5-46c0-f390-cd07a7d83976"
      },
      "outputs": [
        {
          "output_type": "stream",
          "name": "stdout",
          "text": [
            "<class 'scipy.sparse._csr.csr_matrix'>\n",
            "[[0 1 1 1 0 0 1 0 1]\n",
            " [0 1 0 1 0 2 1 0 1]\n",
            " [1 0 0 0 1 0 1 1 0]\n",
            " [0 1 3 1 0 0 1 0 1]]\n",
            "['and' 'document' 'first' 'is' 'one' 'second' 'the' 'third' 'this']\n"
          ]
        }
      ],
      "source": [
        "import sklearn.feature_extraction.text as sk_text\n",
        "\n",
        "vectorizer = sk_text.CountVectorizer(min_df=1)\n",
        "#vectorizer = sk_text.CountVectorizer(stop_words = 'english')\n",
        "\n",
        "#min_df: ignore terms that have a document frequency < min_df.\n",
        "\n",
        "matrix = vectorizer.fit_transform(corpus)\n",
        "\n",
        "print(type(matrix))          # Compressed Sparse Row matrix\n",
        "print(matrix.toarray())        #  convert it to numpy array\n",
        "\n",
        "print(vectorizer.get_feature_names_out())"
      ]
    },
    {
      "cell_type": "markdown",
      "metadata": {
        "id": "EAoREBADaqkV"
      },
      "source": [
        "### TfIdfVectorizer\n",
        "\n",
        "TfIdfVectorizer transforms text into a sparse matrix where rows are text and columns are words, and values are the tf-dif values. More here: http://scikit-learn.org/stable/modules/generated/sklearn.feature_extraction.text.TfidfVectorizer.html#sklearn.feature_extraction.text.TfidfVectorizer"
      ]
    },
    {
      "cell_type": "code",
      "execution_count": 4,
      "metadata": {
        "colab": {
          "base_uri": "https://localhost:8080/"
        },
        "id": "1u2aMnecaqkW",
        "outputId": "8f55a3b9-4280-47bc-a19b-2fac352ace5a"
      },
      "outputs": [
        {
          "output_type": "stream",
          "name": "stdout",
          "text": [
            "<class 'scipy.sparse._csr.csr_matrix'>\n",
            "[[0.         0.43877674 0.54197657 0.43877674 0.         0.\n",
            "  0.35872874 0.         0.43877674]\n",
            " [0.         0.27230147 0.         0.27230147 0.         0.85322574\n",
            "  0.22262429 0.         0.27230147]\n",
            " [0.55280532 0.         0.         0.         0.55280532 0.\n",
            "  0.28847675 0.55280532 0.        ]\n",
            " [0.         0.23973261 0.88835239 0.23973261 0.         0.\n",
            "  0.19599711 0.         0.23973261]]\n",
            "['and' 'document' 'first' 'is' 'one' 'second' 'the' 'third' 'this']\n"
          ]
        }
      ],
      "source": [
        "vectorizer = sk_text.TfidfVectorizer(\n",
        "                             #stop_words='english',\n",
        "                             #max_features = 1000,\n",
        "                             min_df=1)\n",
        "\n",
        "\n",
        "#max_features:  build a vocabulary that only consider the top max_features features ordered by term frequency across the corpus.\n",
        "\n",
        "matrix = vectorizer.fit_transform(corpus)\n",
        "\n",
        "print(type(matrix))          # Compressed Sparse Row matrix\n",
        "print(matrix.toarray())        #  convert it to numpy array\n",
        "\n",
        "print(vectorizer.get_feature_names_out())"
      ]
    },
    {
      "cell_type": "code",
      "execution_count": 5,
      "metadata": {
        "colab": {
          "base_uri": "https://localhost:8080/"
        },
        "id": "UjhkRBohaqkW",
        "outputId": "409fba07-0ecb-4cd7-e857-df960b8a4461"
      },
      "outputs": [
        {
          "output_type": "stream",
          "name": "stdout",
          "text": [
            "<class 'scipy.sparse._csr.csr_matrix'>\n",
            "[[0.43877674 0.54197657 0.43877674 0.35872874 0.43877674]\n",
            " [0.52210862 0.         0.52210862 0.42685801 0.52210862]\n",
            " [0.         0.         0.         1.         0.        ]\n",
            " [0.23973261 0.88835239 0.23973261 0.19599711 0.23973261]]\n",
            "['document' 'first' 'is' 'the' 'this']\n"
          ]
        }
      ],
      "source": [
        "vectorizer = sk_text.TfidfVectorizer(#stop_words='english',\n",
        "                             #max_features = 1000,\n",
        "                             min_df=2,\n",
        "                             #max_df=5\n",
        "                             )\n",
        "\n",
        "#min_df: ignore terms that have a document frequency < min_df.\n",
        "#max_df: ignore terms that have a document frequency > max_df\n",
        "\n",
        "\n",
        "matrix = vectorizer.fit_transform(corpus)\n",
        "print(type(matrix))               # Compressed Sparse Row matrix\n",
        "\n",
        "tfidf_data = matrix.toarray()     #  convert it to numpy array\n",
        "\n",
        "print(tfidf_data)\n",
        "print(vectorizer.get_feature_names_out())"
      ]
    }
  ],
  "metadata": {
    "kernelspec": {
      "display_name": "Python 3",
      "language": "python",
      "name": "python3"
    },
    "language_info": {
      "codemirror_mode": {
        "name": "ipython",
        "version": 3
      },
      "file_extension": ".py",
      "mimetype": "text/x-python",
      "name": "python",
      "nbconvert_exporter": "python",
      "pygments_lexer": "ipython3",
      "version": "3.7.3"
    },
    "colab": {
      "provenance": [],
      "include_colab_link": true
    }
  },
  "nbformat": 4,
  "nbformat_minor": 0
}