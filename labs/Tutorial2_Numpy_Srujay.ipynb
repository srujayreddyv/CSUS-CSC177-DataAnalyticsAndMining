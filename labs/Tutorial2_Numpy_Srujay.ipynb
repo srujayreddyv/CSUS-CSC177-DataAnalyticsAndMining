{
  "cells": [
    {
      "cell_type": "markdown",
      "metadata": {
        "id": "view-in-github",
        "colab_type": "text"
      },
      "source": [
        "<a href=\"https://colab.research.google.com/github/srujayreddyv/CSUS-CSC177-DataAnalyticsAndMining/blob/main/labs/Tutorial2_Numpy_Srujay.ipynb\" target=\"_parent\"><img src=\"https://colab.research.google.com/assets/colab-badge.svg\" alt=\"Open In Colab\"/></a>"
      ]
    },
    {
      "cell_type": "markdown",
      "metadata": {
        "id": "e2lTaDJFG_TQ"
      },
      "source": [
        "# Module 2: Introduction to Numpy\n",
        "\n",
        "Numpy, which stands for numerical Python, is a Python library package to support numerical computations. The basic data structure in numpy is a multi-dimensional array object called ndarray. Numpy provides a suite of functions that can efficiently manipulate elements of the ndarray."
      ]
    },
    {
      "cell_type": "markdown",
      "metadata": {
        "heading_collapsed": true,
        "id": "xLlGf54iG_TV"
      },
      "source": [
        "## Creating ndarray\n",
        "\n",
        "An ndarray can be created from a list or tuple object."
      ]
    },
    {
      "cell_type": "code",
      "execution_count": 1,
      "metadata": {
        "hidden": true,
        "colab": {
          "base_uri": "https://localhost:8080/"
        },
        "id": "BJGbwCGlG_TW",
        "outputId": "be9278a5-aae1-4230-e368-e293df056199"
      },
      "outputs": [
        {
          "output_type": "stream",
          "name": "stdout",
          "text": [
            "[1. 2. 3. 4. 5.]\n",
            "#Dimensions = 1\n",
            "Dimension = (5,)\n",
            "Size = 5\n",
            "Array type = float64\n",
            "[[1 2]\n",
            " [3 4]\n",
            " [5 6]\n",
            " [7 8]]\n",
            "#Dimensions = 2\n",
            "Dimension = (4, 2)\n",
            "Size = 8\n",
            "Array type = int64\n",
            "[['1' 'a' '3.0']\n",
            " ['2' 'b' '3.5']]\n",
            "#Dimensions = 2\n",
            "Dimension = (2, 3)\n",
            "Size = 6\n"
          ]
        }
      ],
      "source": [
        "import numpy as np\n",
        "\n",
        "oneDim = np.array([1.0,2,3,4,5])   # a 1-dimensional array (vector)\n",
        "print(oneDim)\n",
        "print(\"#Dimensions =\", oneDim.ndim)\n",
        "print(\"Dimension =\", oneDim.shape)\n",
        "print(\"Size =\", oneDim.size)\n",
        "print(\"Array type =\", oneDim.dtype)\n",
        "\n",
        "twoDim = np.array([[1,2],[3,4],[5,6],[7,8]])  # a two-dimensional array (matrix)\n",
        "print(twoDim)\n",
        "print(\"#Dimensions =\", twoDim.ndim)\n",
        "print(\"Dimension =\", twoDim.shape)\n",
        "print(\"Size =\", twoDim.size)\n",
        "print(\"Array type =\", twoDim.dtype)\n",
        "\n",
        "arrFromTuple = np.array([(1,'a',3.0),(2,'b',3.5)])  # create ndarray from tuple\n",
        "print(arrFromTuple)\n",
        "print(\"#Dimensions =\", arrFromTuple.ndim)\n",
        "print(\"Dimension =\", arrFromTuple.shape)\n",
        "print(\"Size =\", arrFromTuple.size)"
      ]
    },
    {
      "cell_type": "markdown",
      "metadata": {
        "hidden": true,
        "id": "TBwYtXduG_TZ"
      },
      "source": [
        "There are several built-in functions in numpy that can be used to create ndarrays"
      ]
    },
    {
      "cell_type": "code",
      "execution_count": 2,
      "metadata": {
        "hidden": true,
        "colab": {
          "base_uri": "https://localhost:8080/"
        },
        "id": "TKraLXtAG_TZ",
        "outputId": "e0fb5c7b-b360-4f93-bb23-1bad9c64608b"
      },
      "outputs": [
        {
          "output_type": "stream",
          "name": "stdout",
          "text": [
            "[0.4042067  0.80032611 0.96212281 0.3329264  0.64629523]\n",
            "[-0.57697849  0.36051197  2.45371911  0.69114748  0.10185395]\n",
            "[-10  -8  -6  -4  -2   0   2   4   6   8]\n",
            "[[ 0  1  2  3]\n",
            " [ 4  5  6  7]\n",
            " [ 8  9 10 11]]\n",
            "[0.         0.11111111 0.22222222 0.33333333 0.44444444 0.55555556\n",
            " 0.66666667 0.77777778 0.88888889 1.        ]\n",
            "[1.e-03 1.e-02 1.e-01 1.e+00 1.e+01 1.e+02 1.e+03]\n"
          ]
        }
      ],
      "source": [
        "print(np.random.rand(5))      # random numbers from a uniform distribution between [0,1]\n",
        "\n",
        "print(np.random.randn(5))     # random numbers from a normal distribution\n",
        "\n",
        "print(np.arange(-10,10,2))    # similar to range, but returns ndarray instead of list\n",
        "\n",
        "print(np.arange(12).reshape(3,4))  # reshape to a matrix\n",
        "\n",
        "print(np.linspace(0,1,10))    # split interval [0,1] into 10 equally separated values\n",
        "\n",
        "print(np.logspace(-3,3,7))    # create ndarray with values from 10^-3 to 10^3"
      ]
    },
    {
      "cell_type": "code",
      "execution_count": 3,
      "metadata": {
        "hidden": true,
        "colab": {
          "base_uri": "https://localhost:8080/"
        },
        "id": "2uGXnjZfG_Ta",
        "outputId": "087cac4e-7cb8-4cc6-a471-1deab2230750"
      },
      "outputs": [
        {
          "output_type": "stream",
          "name": "stdout",
          "text": [
            "[[0. 0. 0.]\n",
            " [0. 0. 0.]]\n",
            "[[1. 1.]\n",
            " [1. 1.]\n",
            " [1. 1.]]\n",
            "[[1. 0. 0.]\n",
            " [0. 1. 0.]\n",
            " [0. 0. 1.]]\n"
          ]
        }
      ],
      "source": [
        "print(np.zeros((2,3)))        # a matrix of zeros\n",
        "\n",
        "print(np.ones((3,2)))         # a matrix of ones\n",
        "\n",
        "print(np.eye(3))              # a 3 x 3 identity matrix"
      ]
    },
    {
      "cell_type": "markdown",
      "metadata": {
        "heading_collapsed": true,
        "id": "IFvZzu0dG_Ta"
      },
      "source": [
        "## Element-wise Operations\n",
        "\n",
        "You can apply standard operators such as addition and multiplication on each element of the ndarray."
      ]
    },
    {
      "cell_type": "code",
      "execution_count": 4,
      "metadata": {
        "hidden": true,
        "colab": {
          "base_uri": "https://localhost:8080/"
        },
        "id": "mX0G_rkrG_Tb",
        "outputId": "d61f50a6-0329-44c3-c157-6f1af2226016"
      },
      "outputs": [
        {
          "output_type": "stream",
          "name": "stdout",
          "text": [
            "[2 3 4 5 6]\n",
            "[0 1 2 3 4]\n",
            "[ 2  4  6  8 10]\n",
            "[0 1 1 2 2]\n",
            "[ 1  4  9 16 25]\n",
            "[1 0 1 0 1]\n",
            "[1.         0.5        0.33333333 0.25       0.2       ]\n"
          ]
        }
      ],
      "source": [
        "x = np.array([1,2,3,4,5])\n",
        "\n",
        "print(x + 1)      # addition\n",
        "\n",
        "print(x - 1)      # subtraction\n",
        "\n",
        "print(x * 2)      # multiplication\n",
        "\n",
        "print(x // 2)     # integer division\n",
        "\n",
        "print(x ** 2)     # square\n",
        "\n",
        "print(x % 2)      # modulo\n",
        "print(1 / x)      # division\n"
      ]
    },
    {
      "cell_type": "code",
      "execution_count": 5,
      "metadata": {
        "hidden": true,
        "colab": {
          "base_uri": "https://localhost:8080/"
        },
        "id": "P4H3XXV_G_Tb",
        "outputId": "5a27d957-2484-4264-9f75-0fefeeb380bc"
      },
      "outputs": [
        {
          "output_type": "stream",
          "name": "stdout",
          "text": [
            "[ 3  6  9 12 15]\n",
            "[1 2 3 4 5]\n",
            "[ 2  8 18 32 50]\n",
            "[2. 2. 2. 2. 2.]\n",
            "[2 2 2 2 2]\n",
            "[     2     16    216   4096 100000]\n"
          ]
        }
      ],
      "source": [
        "x = np.array([2,4,6,8,10])\n",
        "y = np.array([1,2,3,4,5])\n",
        "\n",
        "print(x + y)\n",
        "\n",
        "print(x - y)\n",
        "\n",
        "print(x * y)\n",
        "\n",
        "print(x / y)\n",
        "\n",
        "print(x // y)\n",
        "\n",
        "print(x ** y)"
      ]
    },
    {
      "cell_type": "markdown",
      "metadata": {
        "heading_collapsed": true,
        "id": "exYtX2E1G_Tc"
      },
      "source": [
        "## Indexing and Slicing\n",
        "\n",
        "There are various ways to select certain elements with an ndarray."
      ]
    },
    {
      "cell_type": "code",
      "execution_count": 6,
      "metadata": {
        "hidden": true,
        "colab": {
          "base_uri": "https://localhost:8080/"
        },
        "id": "GdtFWTeCG_Tc",
        "outputId": "8959ebd8-448d-4276-fa97-3c942bf4058e"
      },
      "outputs": [
        {
          "output_type": "stream",
          "name": "stdout",
          "text": [
            "[-5 -4 -3 -2 -1  0  1  2  3  4]\n",
            "[-2 -1]\n",
            "[1000 1000]\n",
            "[  -5   -4   -3 1000 1000    0    1    2    3    4]\n",
            "[1000 1000]\n",
            "[500 500]\n",
            "[  -5   -4   -3 1000 1000    0    1    2    3    4]\n"
          ]
        }
      ],
      "source": [
        "x = np.arange(-5,5)\n",
        "print(x)\n",
        "\n",
        "y = x[3:5]     # y is a slice, i.e., pointer to a subarray in x\n",
        "print(y)\n",
        "\n",
        "y[:] = 1000    # modifying the value of y will change x\n",
        "print(y)\n",
        "print(x)\n",
        "\n",
        "z = x[3:5].copy()   # makes a copy of the subarray\n",
        "print(z)\n",
        "\n",
        "z[:] = 500          # modifying the value of z will not affect x\n",
        "print(z)\n",
        "print(x)"
      ]
    },
    {
      "cell_type": "code",
      "execution_count": 7,
      "metadata": {
        "hidden": true,
        "colab": {
          "base_uri": "https://localhost:8080/"
        },
        "id": "6QwnNQBAG_Tc",
        "outputId": "4750e5a7-20dd-4d37-ff66-889c1a85e315"
      },
      "outputs": [
        {
          "output_type": "stream",
          "name": "stdout",
          "text": [
            "[[1, 2, 3, 4], [5, 6, 7, 8], [9, 10, 11, 12]]\n",
            "[9, 10, 11, 12]\n",
            "[9, 10, 11, 12]\n",
            "[[ 1  2  3  4]\n",
            " [ 5  6  7  8]\n",
            " [ 9 10 11 12]]\n",
            "[ 9 10 11 12]\n",
            "[ 9 10 11 12]\n",
            "[ 9 10 11 12]\n",
            "[ 3  7 11]\n",
            "[[3 4]\n",
            " [7 8]]\n"
          ]
        }
      ],
      "source": [
        "my2dlist = [[1,2,3,4],[5,6,7,8],[9,10,11,12]]   # a 2-dim list\n",
        "\n",
        "print(my2dlist)\n",
        "\n",
        "print(my2dlist[2])        # access the third sublist\n",
        "\n",
        "print(my2dlist[:][2])     # can't access third element of each sublist\n",
        "\n",
        "# print(my2dlist[:,2])    # this will cause syntax error\n",
        "\n",
        "my2darr = np.array(my2dlist)\n",
        "\n",
        "print(my2darr)\n",
        "\n",
        "print(my2darr[2][:])      # access the third row\n",
        "\n",
        "print(my2darr[2,:])       # access the third row\n",
        "\n",
        "print(my2darr[:][2])      # access the third row (similar to 2d list)\n",
        "\n",
        "print(my2darr[:,2])       # access the third column\n",
        "\n",
        "print(my2darr[:2,2:])     # access the first two rows & last two columns"
      ]
    },
    {
      "cell_type": "markdown",
      "metadata": {
        "hidden": true,
        "id": "ZbcH-weSG_Td"
      },
      "source": [
        "ndarray also supports boolean indexing."
      ]
    },
    {
      "cell_type": "code",
      "execution_count": 8,
      "metadata": {
        "hidden": true,
        "colab": {
          "base_uri": "https://localhost:8080/"
        },
        "id": "rINCIdUuG_Td",
        "outputId": "8e0888e7-604a-4a59-f1ec-d0229f05778a"
      },
      "outputs": [
        {
          "output_type": "stream",
          "name": "stdout",
          "text": [
            "[[ 1  2  3  4]\n",
            " [ 5  6  7  8]\n",
            " [ 9 10 11 12]]\n",
            "[ 3  6  9 12] <class 'numpy.ndarray'>\n",
            "[[ 9 12]]\n"
          ]
        }
      ],
      "source": [
        "my2darr = np.arange(1,13,1).reshape(3,4)\n",
        "print(my2darr)\n",
        "\n",
        "divBy3 = my2darr[my2darr % 3 == 0]\n",
        "print(divBy3, type(divBy3))\n",
        "\n",
        "divBy3LastRow = my2darr[2:, my2darr[2,:] % 3 == 0]\n",
        "print(divBy3LastRow)"
      ]
    },
    {
      "cell_type": "markdown",
      "metadata": {
        "hidden": true,
        "id": "zOsfQhQPG_Td"
      },
      "source": [
        "More indexing examples."
      ]
    },
    {
      "cell_type": "code",
      "execution_count": 9,
      "metadata": {
        "hidden": true,
        "colab": {
          "base_uri": "https://localhost:8080/"
        },
        "id": "zQu_dL6QG_Td",
        "outputId": "edeca7bc-528b-4df5-9be8-254486a4a363"
      },
      "outputs": [
        {
          "output_type": "stream",
          "name": "stdout",
          "text": [
            "[[ 1  2  3]\n",
            " [ 4  5  6]\n",
            " [ 7  8  9]\n",
            " [10 11 12]]\n",
            "[[ 7  8  9]\n",
            " [ 4  5  6]\n",
            " [ 1  2  3]\n",
            " [10 11 12]]\n",
            "[ 1  3  4  8 12]\n"
          ]
        }
      ],
      "source": [
        "my2darr = np.arange(1,13,1).reshape(4,3)\n",
        "print(my2darr)\n",
        "\n",
        "indices = [2,1,0,3]    # selected row indices\n",
        "print(my2darr[indices,:])\n",
        "\n",
        "rowIndex = [0,0,1,2,3]     # row index into my2darr\n",
        "columnIndex = [0,2,0,1,2]  # column index into my2darr\n",
        "print(my2darr[rowIndex,columnIndex])"
      ]
    },
    {
      "cell_type": "markdown",
      "metadata": {
        "heading_collapsed": true,
        "id": "TGM2KZFbG_Te"
      },
      "source": [
        "## Numpy Arithmetic and Statistical Functions\n",
        "\n",
        "There are many built-in mathematical functions available for manipulating elements of nd-array."
      ]
    },
    {
      "cell_type": "code",
      "execution_count": 10,
      "metadata": {
        "hidden": true,
        "colab": {
          "base_uri": "https://localhost:8080/"
        },
        "id": "KpTPNpDgG_Te",
        "outputId": "d1224c65-3259-4d73-9770-e5051872dd27"
      },
      "outputs": [
        {
          "output_type": "stream",
          "name": "stdout",
          "text": [
            "[-1.4  0.4 -3.2  2.5  3.4]\n",
            "[1.4 0.4 3.2 2.5 3.4]\n",
            "[1.18321596 0.63245553 1.78885438 1.58113883 1.84390889]\n",
            "[-1.  1. -1.  1.  1.]\n",
            "[ 0.24659696  1.4918247   0.0407622  12.18249396 29.96410005]\n",
            "[-3.2 -1.4  0.4  2.5  3.4]\n"
          ]
        }
      ],
      "source": [
        "y = np.array([-1.4, 0.4, -3.2, 2.5, 3.4])    # generate a random vector\n",
        "\n",
        "print(y)\n",
        "\n",
        "print(np.abs(y))          # convert to absolute values\n",
        "\n",
        "print(np.sqrt(abs(y)))    # apply square root to each element\n",
        "\n",
        "print(np.sign(y))         # get the sign of each element\n",
        "\n",
        "print(np.exp(y))          # apply exponentiation\n",
        "\n",
        "print(np.sort(y))         # sort array"
      ]
    },
    {
      "cell_type": "code",
      "execution_count": 11,
      "metadata": {
        "hidden": true,
        "colab": {
          "base_uri": "https://localhost:8080/"
        },
        "id": "eg6yz5KiG_Te",
        "outputId": "63377afa-711f-4404-9fee-f5fddb50a6d2"
      },
      "outputs": [
        {
          "output_type": "stream",
          "name": "stdout",
          "text": [
            "[-2 -1  0  1  2]\n",
            "[-3.05740531 -0.63458333  0.72267178 -0.61321402 -1.73174693]\n",
            "[-5.05740531 -1.63458333  0.72267178  0.38678598  0.26825307]\n",
            "[ 1.05740531 -0.36541667 -0.72267178  1.61321402  3.73174693]\n",
            "[ 6.11481063  0.63458333  0.         -0.61321402 -3.46349387]\n",
            "[ 0.65414945  1.57583717  0.         -1.63075203 -1.15490316]\n",
            "[-2.         -0.63458333  0.72267178  1.          2.        ]\n"
          ]
        }
      ],
      "source": [
        "x = np.arange(-2,3)\n",
        "y = np.random.randn(5)\n",
        "print(x)\n",
        "\n",
        "print(y)\n",
        "\n",
        "print(np.add(x,y))           # element-wise addition       x + y\n",
        "\n",
        "print(np.subtract(x,y))      # element-wise subtraction    x - y\n",
        "\n",
        "print(np.multiply(x,y))      # element-wise multiplication x * y\n",
        "\n",
        "print(np.divide(x,y))        # element-wise division       x / y\n",
        "\n",
        "print(np.maximum(x,y))       # element-wise maximum        max(x,y)"
      ]
    },
    {
      "cell_type": "code",
      "execution_count": 12,
      "metadata": {
        "hidden": true,
        "colab": {
          "base_uri": "https://localhost:8080/"
        },
        "id": "v2zkVqlGG_Te",
        "outputId": "47f2f571-97f2-4810-8776-2f3282369f7f"
      },
      "outputs": [
        {
          "output_type": "stream",
          "name": "stdout",
          "text": [
            "[-3.2 -1.4  0.4  2.5  3.4]\n",
            "Min = -3.2\n",
            "Max = 3.4\n",
            "Average = 0.34000000000000014\n",
            "Std deviation = 2.432776191925595\n",
            "Sum = 1.7000000000000006\n"
          ]
        }
      ],
      "source": [
        "y = np.array([-3.2, -1.4, 0.4, 2.5, 3.4])    # generate a random vector\n",
        "\n",
        "print(y)\n",
        "\n",
        "print(\"Min =\", np.min(y))             # min\n",
        "\n",
        "print(\"Max =\", np.max(y))             # max\n",
        "\n",
        "print(\"Average =\", np.mean(y))        # mean/average\n",
        "\n",
        "print(\"Std deviation =\", np.std(y))   # standard deviation\n",
        "\n",
        "print(\"Sum =\", np.sum(y))             # sum"
      ]
    },
    {
      "cell_type": "markdown",
      "metadata": {
        "heading_collapsed": true,
        "id": "t41FwanYG_Te"
      },
      "source": [
        "## Numpy linear algebra\n",
        "\n",
        "Numpy provides many functions to support linear algebra operations."
      ]
    },
    {
      "cell_type": "code",
      "execution_count": 13,
      "metadata": {
        "hidden": true,
        "colab": {
          "base_uri": "https://localhost:8080/"
        },
        "id": "e4p-v2IoG_Tf",
        "outputId": "ca1be159-2925-443b-e6c6-12db0c71ab12"
      },
      "outputs": [
        {
          "output_type": "stream",
          "name": "stdout",
          "text": [
            "[[-1.82586307 -0.74665655  0.22807848]\n",
            " [-1.30214018 -1.57995015 -3.18676173]]\n",
            "[[-1.82586307 -1.30214018]\n",
            " [-0.74665655 -1.57995015]\n",
            " [ 0.22807848 -3.18676173]]\n",
            "[-0.47829409  0.67383396  0.13173995]\n",
            "[ 0.40022402 -0.86164195]\n",
            "[[ 3.94329174  2.83037802]\n",
            " [ 2.83037802 14.34726184]]\n",
            "[[ 5.029345    3.42060919  3.73317042]\n",
            " [ 3.42060919  3.05373849  4.86462839]\n",
            " [ 3.73317042  4.86462839 10.20747009]]\n"
          ]
        }
      ],
      "source": [
        "X = np.random.randn(2,3)    # create a 2 x 3 random matrix\n",
        "\n",
        "print(X)\n",
        "\n",
        "print(X.T)             # matrix transpose operation X^T\n",
        "\n",
        "y = np.random.randn(3) # random vector\n",
        "\n",
        "print(y)\n",
        "\n",
        "print(X.dot(y))        # matrix-vector multiplication  X * y\n",
        "\n",
        "print(X.dot(X.T))      # matrix-matrix multiplication  X * X^T\n",
        "\n",
        "print(X.T.dot(X))      # matrix-matrix multiplication  X^T * X"
      ]
    },
    {
      "cell_type": "code",
      "execution_count": 14,
      "metadata": {
        "hidden": true,
        "colab": {
          "base_uri": "https://localhost:8080/"
        },
        "id": "V5h-spEAG_Tf",
        "outputId": "dcd387b7-5ae3-457c-ba7e-8dd59c7e22ea"
      },
      "outputs": [
        {
          "output_type": "stream",
          "name": "stdout",
          "text": [
            "[[ 1.08961985  0.56361985  1.28808989]\n",
            " [ 0.06974916 -0.00400824 -0.22896583]\n",
            " [-0.09715925 -1.91062685 -1.75894816]\n",
            " [-1.30981055  1.27376534 -0.51680759]\n",
            " [ 0.58387123  0.54584281 -0.91106019]]\n",
            "[[ 0.4298167   0.13541326 -0.19130463]\n",
            " [ 0.13541326  0.26828461 -0.17234425]\n",
            " [-0.19130463 -0.17234425  0.31023361]]\n",
            "60.86652862101252\n",
            "[1.46959765 4.62537155 8.95433752]\n",
            "[[-0.68220234 -0.71496416  0.15305625]\n",
            " [-0.46131863  0.58329804  0.66854209]\n",
            " [ 0.56726104 -0.38547327  0.72775357]]\n"
          ]
        }
      ],
      "source": [
        "X = np.random.randn(5,3)\n",
        "\n",
        "print(X)\n",
        "\n",
        "C = X.T.dot(X)               # C = X^T * X is a square matrix\n",
        "\n",
        "invC = np.linalg.inv(C)      # inverse of a square matrix\n",
        "\n",
        "print(invC)\n",
        "\n",
        "detC = np.linalg.det(C)      # determinant of a square matrix\n",
        "\n",
        "print(detC)\n",
        "\n",
        "S, U = np.linalg.eig(C)      # eigenvalue S and eigenvector U of a square matrix\n",
        "\n",
        "print(S)\n",
        "\n",
        "print(U)"
      ]
    },
    {
      "cell_type": "markdown",
      "metadata": {
        "heading_collapsed": true,
        "id": "D6NQgZ9DG_Tf"
      },
      "source": [
        "## Iterating over array elements"
      ]
    },
    {
      "cell_type": "markdown",
      "metadata": {
        "hidden": true,
        "id": "80Qz3O9JG_Tf"
      },
      "source": [
        "Python `for` loop is the most convenient way to iterate over an array:"
      ]
    },
    {
      "cell_type": "code",
      "execution_count": 15,
      "metadata": {
        "hidden": true,
        "colab": {
          "base_uri": "https://localhost:8080/"
        },
        "id": "1e0TaSSAG_Tf",
        "outputId": "5ea3a7d7-96ed-4fca-fa1c-15fa8d277862"
      },
      "outputs": [
        {
          "output_type": "stream",
          "name": "stdout",
          "text": [
            "1\n",
            "2\n",
            "3\n",
            "4\n"
          ]
        }
      ],
      "source": [
        "v = np.array([1, 2, 3, 4])\n",
        "\n",
        "for element in v:\n",
        "    print (element)"
      ]
    },
    {
      "cell_type": "code",
      "execution_count": 16,
      "metadata": {
        "hidden": true,
        "colab": {
          "base_uri": "https://localhost:8080/"
        },
        "id": "qzSvFtWqG_Tf",
        "outputId": "a4ec3c03-2003-4ef4-89e9-277cc961105c"
      },
      "outputs": [
        {
          "output_type": "stream",
          "name": "stdout",
          "text": [
            "row [1 2]\n",
            "1\n",
            "2\n",
            "row [3 4]\n",
            "3\n",
            "4\n"
          ]
        }
      ],
      "source": [
        "M = np.array([[1,2], [3,4]])\n",
        "\n",
        "for row in M:\n",
        "    print (\"row\", row)\n",
        "\n",
        "    for element in row:\n",
        "        print (element)"
      ]
    },
    {
      "cell_type": "markdown",
      "metadata": {
        "hidden": true,
        "id": "Qb-GHHeJG_Tf"
      },
      "source": [
        "Use the `enumerate` function to obtain both the element and its index in the `for` loop:"
      ]
    },
    {
      "cell_type": "code",
      "execution_count": 17,
      "metadata": {
        "hidden": true,
        "colab": {
          "base_uri": "https://localhost:8080/"
        },
        "id": "_8DTyiF8G_Tf",
        "outputId": "75e12676-8617-4897-d884-1eab3636f097"
      },
      "outputs": [
        {
          "output_type": "stream",
          "name": "stdout",
          "text": [
            "row_idx 0 row [1 2]\n",
            "col_idx 0 element 1\n",
            "col_idx 1 element 2\n",
            "row_idx 1 row [3 4]\n",
            "col_idx 0 element 3\n",
            "col_idx 1 element 4\n"
          ]
        }
      ],
      "source": [
        "for row_idx, row in enumerate(M):\n",
        "    print (\"row_idx\", row_idx, \"row\", row)\n",
        "\n",
        "    for col_idx, element in enumerate(row):\n",
        "        print (\"col_idx\", col_idx, \"element\", element)\n",
        "\n",
        "        # update the matrix M: square each element\n",
        "        M[row_idx, col_idx] = element ** 2"
      ]
    },
    {
      "cell_type": "code",
      "execution_count": 18,
      "metadata": {
        "hidden": true,
        "colab": {
          "base_uri": "https://localhost:8080/"
        },
        "id": "CF9EMV-qG_Tg",
        "outputId": "53507aa3-f546-48d1-a088-5325fc0157f9"
      },
      "outputs": [
        {
          "output_type": "execute_result",
          "data": {
            "text/plain": [
              "array([[ 1,  4],\n",
              "       [ 9, 16]])"
            ]
          },
          "metadata": {},
          "execution_count": 18
        }
      ],
      "source": [
        "# each element in M is now squared\n",
        "M"
      ]
    },
    {
      "cell_type": "markdown",
      "metadata": {
        "heading_collapsed": true,
        "id": "M5I6P3DYG_Tg"
      },
      "source": [
        "## Type casting"
      ]
    },
    {
      "cell_type": "markdown",
      "metadata": {
        "hidden": true,
        "id": "W_-wgZ3VG_Tg"
      },
      "source": [
        "Since Numpy arrays are *statically typed*, the type of an array does not change once created. But we can explicitly cast an array of some type to another using the `astype` functions. This always create a new array of new type:"
      ]
    },
    {
      "cell_type": "code",
      "execution_count": 19,
      "metadata": {
        "hidden": true,
        "colab": {
          "base_uri": "https://localhost:8080/"
        },
        "id": "FmA9_98zG_Tg",
        "outputId": "b4334f37-d91a-40ff-c836-5fcba4659682"
      },
      "outputs": [
        {
          "output_type": "execute_result",
          "data": {
            "text/plain": [
              "dtype('int64')"
            ]
          },
          "metadata": {},
          "execution_count": 19
        }
      ],
      "source": [
        "M.dtype"
      ]
    },
    {
      "cell_type": "code",
      "execution_count": 20,
      "metadata": {
        "hidden": true,
        "colab": {
          "base_uri": "https://localhost:8080/"
        },
        "id": "Md81MLPtG_Tg",
        "outputId": "8374b774-8964-43ee-aa29-97a6a090c214"
      },
      "outputs": [
        {
          "output_type": "execute_result",
          "data": {
            "text/plain": [
              "array([[ 1.,  4.],\n",
              "       [ 9., 16.]])"
            ]
          },
          "metadata": {},
          "execution_count": 20
        }
      ],
      "source": [
        "M2 = M.astype(float)\n",
        "\n",
        "M2"
      ]
    },
    {
      "cell_type": "code",
      "execution_count": 21,
      "metadata": {
        "hidden": true,
        "colab": {
          "base_uri": "https://localhost:8080/"
        },
        "id": "zklipffAG_Tg",
        "outputId": "24aeba9b-fbd0-41f2-ef6c-f9ee3453f005"
      },
      "outputs": [
        {
          "output_type": "execute_result",
          "data": {
            "text/plain": [
              "dtype('float64')"
            ]
          },
          "metadata": {},
          "execution_count": 21
        }
      ],
      "source": [
        "M2.dtype"
      ]
    },
    {
      "cell_type": "code",
      "execution_count": 22,
      "metadata": {
        "hidden": true,
        "colab": {
          "base_uri": "https://localhost:8080/"
        },
        "id": "otxJJgmzG_Th",
        "outputId": "0c89b55b-7951-40f7-d06a-97e39881e8e4"
      },
      "outputs": [
        {
          "output_type": "execute_result",
          "data": {
            "text/plain": [
              "array([[ True,  True],\n",
              "       [ True,  True]])"
            ]
          },
          "metadata": {},
          "execution_count": 22
        }
      ],
      "source": [
        "M3 = M.astype(bool)\n",
        "\n",
        "M3"
      ]
    },
    {
      "cell_type": "markdown",
      "metadata": {
        "heading_collapsed": true,
        "id": "qXKjp4-NG_Th"
      },
      "source": [
        "# Scipy:  a library for scientific computing\n",
        "#### It provides many user-friendly and efficient numerical routines such as stats,  numerical integration and optimization."
      ]
    },
    {
      "cell_type": "code",
      "execution_count": 23,
      "metadata": {
        "hidden": true,
        "colab": {
          "base_uri": "https://localhost:8080/"
        },
        "id": "zh8lI7y-G_Th",
        "outputId": "07d62b20-d9f6-4928-a80f-e3794200483d"
      },
      "outputs": [
        {
          "output_type": "stream",
          "name": "stdout",
          "text": [
            "[0 1 1 0 1]\n",
            "[0 1 1 0 1]\n",
            "0\n",
            "0.0\n",
            "0.0\n",
            "0.0\n"
          ]
        }
      ],
      "source": [
        "import numpy as np\n",
        "import scipy.spatial.distance as sp_dist\n",
        "\n",
        "\n",
        "x = np.random.randint(0, 2, size = 5)      # Return random integers from low (inclusive) to high (exclusive).\n",
        "y = np.random.randint(0, 2, size = 5)\n",
        "print (x)\n",
        "print (y)\n",
        "print (sp_dist.cosine(x,y))\n",
        "print (sp_dist.euclidean(x,y))\n",
        "print (sp_dist.jaccard(x,y))\n",
        "print (sp_dist.hamming(x,y))"
      ]
    },
    {
      "cell_type": "code",
      "execution_count": 24,
      "metadata": {
        "hidden": true,
        "colab": {
          "base_uri": "https://localhost:8080/"
        },
        "id": "JC5gtjpNG_Th",
        "outputId": "54a996ad-9705-46f7-d4c0-a1758c731cee"
      },
      "outputs": [
        {
          "output_type": "execute_result",
          "data": {
            "text/plain": [
              "LinregressResult(slope=0.20833333333333331, intercept=13.375, rvalue=0.14499815458068518, pvalue=0.689401448116695, stderr=0.5026170462708364, intercept_stderr=4.247039688703678)"
            ]
          },
          "metadata": {},
          "execution_count": 24
        }
      ],
      "source": [
        "from scipy.stats import linregress\n",
        "\n",
        "a = [15, 12, 8, 8, 7, 7, 7, 6, 5, 3]\n",
        "b = [10, 25, 17, 11, 13, 17, 20, 13, 9, 15]\n",
        "\n",
        "linregress(a, b)"
      ]
    },
    {
      "cell_type": "code",
      "execution_count": null,
      "metadata": {
        "hidden": true,
        "id": "S7WiH1WLG_Tn"
      },
      "outputs": [],
      "source": []
    }
  ],
  "metadata": {
    "kernelspec": {
      "display_name": "Python 3",
      "language": "python",
      "name": "python3"
    },
    "language_info": {
      "codemirror_mode": {
        "name": "ipython",
        "version": 3
      },
      "file_extension": ".py",
      "mimetype": "text/x-python",
      "name": "python",
      "nbconvert_exporter": "python",
      "pygments_lexer": "ipython3",
      "version": "3.7.3"
    },
    "colab": {
      "provenance": [],
      "include_colab_link": true
    }
  },
  "nbformat": 4,
  "nbformat_minor": 0
}